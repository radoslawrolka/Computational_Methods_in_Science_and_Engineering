{
 "cells": [
  {
   "cell_type": "code",
   "execution_count": 1,
   "metadata": {},
   "outputs": [],
   "source": [
    "import numpy as np\n",
    "import matplotlib.pyplot as plt"
   ]
  },
  {
   "cell_type": "markdown",
   "metadata": {},
   "source": [
    "# QR Factorization"
   ]
  },
  {
   "cell_type": "code",
   "execution_count": 86,
   "metadata": {},
   "outputs": [],
   "source": [
    "def qr_factorization_gram_schmidt(A):\n",
    "    Q = np.zeros(shape=(A.shape[0], A.shape[0]))\n",
    "    R = np.zeros(shape=(A.shape[0], A.shape[0]))\n",
    "    # Q\n",
    "    for k in range(A.shape[0]):\n",
    "        Q[:,k] = A[:,k]\n",
    "        for i in range(k):\n",
    "            Q[:,k] -= np.dot(Q[:,i], A[:,k]) * Q[:,i]\n",
    "        Q[:,k] = Q[:,k] / np.linalg.norm(Q[:,k])\n",
    "\n",
    "    # R\n",
    "    for i in range(A.shape[0]):\n",
    "        for j in range(i, A.shape[0]):\n",
    "            R[i,j] = np.dot(Q[:,i], A[:,j])\n",
    "\n",
    "    return Q, R"
   ]
  },
  {
   "cell_type": "code",
   "execution_count": 42,
   "metadata": {},
   "outputs": [],
   "source": [
    "def random_matrix(n):\n",
    "    return np.random.rand(n, n)"
   ]
  },
  {
   "cell_type": "code",
   "execution_count": 73,
   "metadata": {},
   "outputs": [
    {
     "name": "stdout",
     "output_type": "stream",
     "text": [
      "n=50, Q@R==A: True, allclose Q: True, allclose R: True\n",
      "n=100, Q@R==A: True, allclose Q: True, allclose R: True\n",
      "n=150, Q@R==A: True, allclose Q: True, allclose R: True\n",
      "n=200, Q@R==A: True, allclose Q: True, allclose R: True\n"
     ]
    }
   ],
   "source": [
    "for n in range(50, 201, 50):\n",
    "    M = random_matrix(n)\n",
    "    Q, R = qr_factorization_gram_schmidt(M)\n",
    "    Q_lib, R_lib = np.linalg.qr(M)\n",
    "    print(f'n={n}, Q@R==A: {np.allclose(Q@R, M)}, allclose Q: {np.allclose(np.abs(Q), np.abs(Q_lib))}, allclose R: {np.allclose(np.abs(R), np.abs(R_lib))}')"
   ]
  },
  {
   "cell_type": "markdown",
   "metadata": {},
   "source": [
    "# Solve system of equations using QR factorization."
   ]
  },
  {
   "cell_type": "markdown",
   "metadata": {},
   "source": [
    "$$\n",
    "\\begin{aligned}\n",
    "f(x) = a_0 + a_1 x + a_2 x^2\n",
    "\\end{aligned}\n",
    "$$"
   ]
  },
  {
   "cell_type": "code",
   "execution_count": 82,
   "metadata": {},
   "outputs": [],
   "source": [
    "X = np.arange(-5, 6, 1)\n",
    "Y = np.array([2, 7, 9, 12, 13, 14, 14, 13, 10, 8, 4])\n",
    "A = np.array([[1, x, x**2] for x in X])"
   ]
  },
  {
   "cell_type": "code",
   "execution_count": 88,
   "metadata": {},
   "outputs": [
    {
     "name": "stdout",
     "output_type": "stream",
     "text": [
      "f(x) = 13.972027972028217 + 0.18181818181818182x + -0.4335664335664472x^2\n"
     ]
    }
   ],
   "source": [
    "def qr_solve_least_square(A, Y):\n",
    "    Q, R = qr_factorization_gram_schmidt(A.T @ A) # orthogonalize A.T @ A\n",
    "    return np.linalg.solve(R, Q.T @ A.T @ Y)\n",
    "\n",
    "result = qr_solve_least_square(A, Y)\n",
    "print(f'f(x) = {result[0]} + {result[1]}x + {result[2]}x^2')"
   ]
  },
  {
   "cell_type": "code",
   "execution_count": 90,
   "metadata": {},
   "outputs": [
    {
     "data": {
      "image/png": "[encoded data removed]",
      "text/plain": [
       "<Figure size 640x480 with 1 Axes>"
      ]
     },
     "metadata": {},
     "output_type": "display_data"
    }
   ],
   "source": [
    "def plot(A, X, Y):\n",
    "    plt.scatter(X, Y)\n",
    "    plt.plot(X, A @ result)\n",
    "    plt.show()\n",
    "plot(A, X, Y)"
   ]
  },
  {
   "cell_type": "markdown",
   "metadata": {},
   "source": [
    "---"
   ]
  }
 ],
 "metadata": {
  "kernelspec": {
   "display_name": "base",
   "language": "python",
   "name": "python3"
  },
  "language_info": {
   "codemirror_mode": {
    "name": "ipython",
    "version": 3
   },
   "file_extension": ".py",
   "mimetype": "text/x-python",
   "name": "python",
   "nbconvert_exporter": "python",
   "pygments_lexer": "ipython3",
   "version": "3.11.7"
  }
 },
 "nbformat": 4,
 "nbformat_minor": 2
}
