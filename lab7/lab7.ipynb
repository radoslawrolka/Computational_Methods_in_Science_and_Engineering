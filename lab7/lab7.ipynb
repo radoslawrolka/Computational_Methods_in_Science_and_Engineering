{
 "cells": [
  {
   "cell_type": "code",
   "execution_count": 26,
   "metadata": {},
   "outputs": [],
   "source": [
    "import numpy as np\n",
    "from scipy.linalg import inv, solve_triangular, lu\n",
    "import time\n",
    "import matplotlib.pyplot as plt\n",
    "import pandas as pd\n",
    "import itertools"
   ]
  },
  {
   "cell_type": "markdown",
   "metadata": {},
   "source": [
    "# Spectral decomposition "
   ]
  },
  {
   "cell_type": "markdown",
   "metadata": {},
   "source": [
    "1. [Power iteration](#1.-Power-iteration)\n",
    "2. [Inverse iteration](#2.-Inverse-iteration)\n",
    "3. [Rayleigh quotient iteration](#3.-Rayleigh-quotient-iteration)"
   ]
  },
  {
   "cell_type": "markdown",
   "metadata": {},
   "source": [
    "## 1. Power iteration"
   ]
  },
  {
   "cell_type": "code",
   "execution_count": 61,
   "metadata": {},
   "outputs": [
    {
     "name": "stdout",
     "output_type": "stream",
     "text": [
      "power_method: 2.4584292314281146\n",
      "numpy.linalg.eig: 2.458429231428115\n",
      "power_method: 2.314919601634844\n",
      "numpy.linalg.eig: 2.3149196016348417\n",
      "power_method: 3.238747821498589\n",
      "numpy.linalg.eig: 3.2387478214985914\n"
     ]
    }
   ],
   "source": [
    "def power_iteration(A, eps=1e-9):\n",
    "    v0 = np.identity(A.shape[0])[0] # [1,0,0,...]\n",
    "    i = 0\n",
    "    while True:\n",
    "        i += 1\n",
    "\n",
    "        v = v0\n",
    "        v = A @ v\n",
    "        v /= np.linalg.norm(v)\n",
    "        if np.linalg.norm(v-v0) < eps:\n",
    "            return l, v\n",
    "        l = v.T @ A @ v\n",
    "        v0 = v\n",
    "\n",
    "for n in range(2, 5):\n",
    "    matrix = np.random.rand(n, n)\n",
    "    matrix = np.matmul(matrix, matrix.T)\n",
    "    eigenvalue, iterations = power_iteration(matrix)\n",
    "    eigenvalues, eigenvectors = np.linalg.eig(matrix)\n",
    "    # show diff \n",
    "    print(f\"power_method: {eigenvalue}\")\n",
    "    print(f\"numpy.linalg.eig: {max(eigenvalues)}\")\n"
   ]
  },
  {
   "cell_type": "markdown",
   "metadata": {},
   "source": [
    "## 2. Inverse iteration"
   ]
  },
  {
   "cell_type": "code",
   "execution_count": 79,
   "metadata": {},
   "outputs": [
    {
     "name": "stdout",
     "output_type": "stream",
     "text": [
      "117\n",
      "power_method: 1.2186758960490693\n",
      "numpy.linalg.eig: 1.2186758960490696\n",
      "26\n",
      "power_method: 4.621121534853237\n",
      "numpy.linalg.eig: 4.621121534853236\n",
      "42\n",
      "power_method: 3.221831437076856\n",
      "numpy.linalg.eig: 3.2218314370768577\n"
     ]
    }
   ],
   "source": [
    "import scipy\n",
    "\n",
    "def inverse_iteration(matrix, sigma=8, eps=1e-9):\n",
    "    vector0 = np.identity(matrix.shape[0])[0]\n",
    "    B = matrix-sigma*np.identity(matrix.shape[0])\n",
    "    lupiv = scipy.linalg.lu_factor(B)\n",
    "    for i in range(10000):\n",
    "        vector = vector0\n",
    "        w = scipy.linalg.lu_solve(lupiv, vector)\n",
    "        vector = w / np.linalg.norm(w)\n",
    "        if np.linalg.norm(vector-vector0) < eps or np.linalg.norm(vector+vector0) < eps:\n",
    "            print(i)\n",
    "            return l, vector\n",
    "        l = vector.T @ matrix @ vector\n",
    "        vector0 = vector\n",
    "    print(i)\n",
    "    return l, vector\n",
    "\n",
    "for n in range(2, 5):\n",
    "    matrix = np.random.rand(n, n)\n",
    "    matrix = np.matmul(matrix, matrix.T)\n",
    "    eigenvalue, vector = inverse_iteration(matrix)\n",
    "    eigenvalues, eigenvectors = np.linalg.eig(matrix)\n",
    "    # show diff \n",
    "    print(f\"power_method: {eigenvalue}\")\n",
    "    print(f\"numpy.linalg.eig: {max(eigenvalues)}\")"
   ]
  },
  {
   "cell_type": "markdown",
   "metadata": {},
   "source": [
    "## 3. Rayleigh quotient iteration"
   ]
  },
  {
   "cell_type": "code",
   "execution_count": 76,
   "metadata": {},
   "outputs": [
    {
     "name": "stdout",
     "output_type": "stream",
     "text": [
      "4\n",
      "power_method: 1.8664932121426538\n",
      "numpy.linalg.eig: 1.8664932121426538\n",
      "3\n",
      "power_method: 2.0768733762846634\n",
      "numpy.linalg.eig: 2.0768733762846643\n",
      "2\n",
      "power_method: 5.408949678977897\n",
      "numpy.linalg.eig: 5.4089496789779\n"
     ]
    }
   ],
   "source": [
    "def rayleigh_quotient_iteration(matrix, sigma, eps=1e-5, max_iter=10000):\n",
    "    vector = np.ones(matrix.shape[0])\n",
    "    for i in range(max_iter):\n",
    "        B = matrix - sigma * np.identity(matrix.shape[0])\n",
    "        new_vector = scipy.linalg.solve(B, vector)\n",
    "        new_vector /= np.linalg.norm(new_vector)\n",
    "        sigma = (new_vector @ matrix @ new_vector.T) / (new_vector @ new_vector.T)\n",
    "        if np.linalg.norm(new_vector - vector) < eps:\n",
    "            break\n",
    "        vector = new_vector\n",
    "    print(i)\n",
    "    return sigma, vector / np.linalg.norm(vector)\n",
    "\n",
    "\n",
    "for n in range(2, 5):\n",
    "    matrix = np.random.rand(n, n)\n",
    "    matrix = np.matmul(matrix, matrix.T)\n",
    "    eigenvalue, vector = rayleigh_quotient_iteration(matrix, 8)\n",
    "    eigenvalues, eigenvectors = np.linalg.eig(matrix)\n",
    "    # show diff \n",
    "    print(f\"power_method: {eigenvalue}\")\n",
    "    print(f\"numpy.linalg.eig: {max(eigenvalues)}\")"
   ]
  },
  {
   "cell_type": "markdown",
   "metadata": {},
   "source": [
    "---"
   ]
  }
 ],
 "metadata": {
  "kernelspec": {
   "display_name": "base",
   "language": "python",
   "name": "python3"
  },
  "language_info": {
   "codemirror_mode": {
    "name": "ipython",
    "version": 3
   },
   "file_extension": ".py",
   "mimetype": "text/x-python",
   "name": "python",
   "nbconvert_exporter": "python",
   "pygments_lexer": "ipython3",
   "version": "3.10.9"
  }
 },
 "nbformat": 4,
 "nbformat_minor": 2
}
