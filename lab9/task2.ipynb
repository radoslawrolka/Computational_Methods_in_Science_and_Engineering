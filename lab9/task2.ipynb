{
 "cells": [
  {
   "cell_type": "code",
   "execution_count": null,
   "metadata": {},
   "outputs": [],
   "source": [
    "import numpy as np\n",
    "from numpy.fft import fft2, ifft2\n",
    "from PIL import Image, ImageOps\n",
    "import matplotlib.pyplot as plt"
   ]
  },
  {
   "cell_type": "markdown",
   "metadata": {},
   "source": [
    "# OCR - Optical Character Recognition"
   ]
  },
  {
   "cell_type": "markdown",
   "metadata": {},
   "source": [
    "Spis treści:\n",
    "\n",
    "SZERYFOWE I NIE SZERYFOWE -> porównaj"
   ]
  },
  {
   "cell_type": "markdown",
   "metadata": {},
   "source": [
    "# Założenia"
   ]
  },
  {
   "cell_type": "markdown",
   "metadata": {},
   "source": [
    "- Tekst skłąda się z małych liter alfabetu łacińskiego oraz cyfr.\n",
    "- Na obrazie występuje jeden typ i rozmiar czcionki.\n",
    "- Występują znaki przestankowe: .,!?\n",
    "- Tekst składa się z wielu linii.\n",
    "- Tekst może być obrócony.\n",
    "- Program pownien zwracać tekst wraz ze znakami białymi i znakami nowej linii.\n",
    "- Program powinien zliczać liczbę wystąpień każdego znaku."
   ]
  },
  {
   "cell_type": "markdown",
   "metadata": {},
   "source": [
    "TODO:\n",
    "- może raportować % poprawności dla predefiniowanych testów\n",
    "- operacja splotu i dft\n",
    "- redukcja szumu"
   ]
  },
  {
   "cell_type": "markdown",
   "metadata": {},
   "source": [
    "BREAK"
   ]
  },
  {
   "cell_type": "markdown",
   "metadata": {},
   "source": [
    "# Wczytywanie obrazu"
   ]
  },
  {
   "cell_type": "code",
   "execution_count": null,
   "metadata": {},
   "outputs": [],
   "source": [
    "def read_image_in_grayscale(filename):\n",
    "    return ImageOps.invert(Image.open(f'./ocr/{filename}').convert('L'))"
   ]
  },
  {
   "cell_type": "markdown",
   "metadata": {},
   "source": []
  },
  {
   "cell_type": "markdown",
   "metadata": {},
   "source": [
    "---"
   ]
  }
 ],
 "metadata": {
  "language_info": {
   "name": "python"
  }
 },
 "nbformat": 4,
 "nbformat_minor": 2
}
