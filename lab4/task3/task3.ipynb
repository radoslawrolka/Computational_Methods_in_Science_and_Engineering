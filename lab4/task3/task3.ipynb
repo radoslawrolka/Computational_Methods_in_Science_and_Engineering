{
 "cells": [
  {
   "cell_type": "code",
   "execution_count": 2,
   "metadata": {},
   "outputs": [],
   "source": [
    "import numpy as np\n",
    "import matplotlib.pyplot as plt"
   ]
  },
  {
   "cell_type": "markdown",
   "metadata": {},
   "source": [
    "# Sudoku Solver using Annealing"
   ]
  },
  {
   "cell_type": "markdown",
   "metadata": {},
   "source": [
    "Napisz program poszukujący rozwiązania łamigłówki Sudoku za pomocą symulowanego\n",
    "wyżarzania. Plansza 9 ×9 ma zostać wczytana z pliku tekstowego, w którym pola puste\n",
    "zaznaczone są znakiem x. Jako funkcję kosztu przyjmij sumę powtórzeń cyfr występu-\n",
    "jących w wierszach bloku 9 ×9, kolumnach bloku 9 ×9 oraz blokach 3 ×3. Zaproponuj\n",
    "metodę generacji stanu sąsiedniego. Przedstaw zależność liczby iteracji algorytmu od\n",
    "liczby pustych miejsc na planszy. Czy Twój program jest w stanie znaleźć poprawne\n",
    "rozwiązanie dla każdej z testowanych konfiguracji wejściowych?"
   ]
  },
  {
   "cell_type": "markdown",
   "metadata": {},
   "source": [
    "## Table of Contents"
   ]
  },
  {
   "cell_type": "markdown",
   "metadata": {},
   "source": [
    "1. [Read Sudokus](#1-read-sudokus)\n",
    "2. [Annealing](#2-annealing)  \n",
    "    2.1 [Cost Function](#21-cost-function)  \n",
    "    2.2 [Neighbourhood](#22-neighbourhood)  \n",
    "    2.3 [Annealing](#23-annealing)"
   ]
  },
  {
   "cell_type": "markdown",
   "metadata": {},
   "source": [
    "## 1. Read Sudokus\n",
    "\n",
    "sudokus were taken from [http://magictour.free.fr/top1465](http://magictour.free.fr/top1465)"
   ]
  },
  {
   "cell_type": "code",
   "execution_count": 27,
   "metadata": {},
   "outputs": [],
   "source": [
    "def read_sudokus(filename=\"sudoku.txt\"):\n",
    "    with open(filename, \"r\") as f:\n",
    "        sudokus = f.readlines()\n",
    "    sudokus = [list(sudoku.strip()) for sudoku in sudokus]\n",
    "    return np.array([np.reshape(row, (-1, 9, 9)) for row in sudokus])"
   ]
  },
  {
   "cell_type": "markdown",
   "metadata": {},
   "source": [
    "## 2. Annealing"
   ]
  },
  {
   "cell_type": "markdown",
   "metadata": {},
   "source": [
    "### 2.1 Cost Function"
   ]
  },
  {
   "cell_type": "code",
   "execution_count": null,
   "metadata": {},
   "outputs": [],
   "source": []
  },
  {
   "cell_type": "markdown",
   "metadata": {},
   "source": [
    "### 2.2 Neighbourhood"
   ]
  },
  {
   "cell_type": "code",
   "execution_count": null,
   "metadata": {},
   "outputs": [],
   "source": []
  },
  {
   "cell_type": "markdown",
   "metadata": {},
   "source": [
    "### 2.3 Annealing"
   ]
  },
  {
   "cell_type": "code",
   "execution_count": null,
   "metadata": {},
   "outputs": [],
   "source": []
  }
 ],
 "metadata": {
  "kernelspec": {
   "display_name": "base",
   "language": "python",
   "name": "python3"
  },
  "language_info": {
   "codemirror_mode": {
    "name": "ipython",
    "version": 3
   },
   "file_extension": ".py",
   "mimetype": "text/x-python",
   "name": "python",
   "nbconvert_exporter": "python",
   "pygments_lexer": "ipython3",
   "version": "3.10.9"
  }
 },
 "nbformat": 4,
 "nbformat_minor": 2
}
