{
 "cells": [
  {
   "cell_type": "code",
   "execution_count": 2,
   "metadata": {},
   "outputs": [],
   "source": [
    "import numpy as np\n",
    "import matplotlib.pyplot as plt"
   ]
  },
  {
   "cell_type": "markdown",
   "metadata": {},
   "source": [
    "# Sudoku Solver using Annealing"
   ]
  },
  {
   "cell_type": "markdown",
   "metadata": {},
   "source": [
    "Napisz program poszukujący rozwiązania łamigłówki Sudoku za pomocą symulowanego\n",
    "wyżarzania. \n",
    "\n",
    "- Plansza 9 ×9 ma zostać wczytana z pliku tekstowego, w którym pola puste\n",
    "zaznaczone są znakiem x. \n",
    "- Jako funkcję kosztu przyjmij sumę powtórzeń cyfr występu-\n",
    "jących w wierszach bloku 9 ×9, kolumnach bloku 9 ×9 oraz blokach 3 ×3. \n",
    "- Zaproponuj metodę generacji stanu sąsiedniego. \n",
    "- Przedstaw zależność liczby iteracji algorytmu od liczby pustych miejsc na planszy. \n",
    "- Czy Twój program jest w stanie znaleźć poprawne rozwiązanie dla każdej z testowanych konfiguracji wejściowych?"
   ]
  },
  {
   "cell_type": "markdown",
   "metadata": {},
   "source": [
    "## Table of Contents"
   ]
  },
  {
   "cell_type": "markdown",
   "metadata": {},
   "source": [
    "1. [Read Sudokus](#1-read-sudokus)\n",
    "2. [Fill Sudoku](#2-fill-sudoku)  \n",
    "    2.1 [Fill Sudoku](#21-fill-sudoku)  \n",
    "    2.2 [Create sudoku](#22-create-sudoku)\n",
    "3. [Annealing](#3-annealing)  \n",
    "    3.1 [Cost Function](#31-cost-function)  \n",
    "    3.2 [Annealing Algorithm](#32-annealing-algorithm)\n",
    "4. [Vizualization](#4-vizualization)\n",
    "5. [Results](#5-results)  \n",
    "   5.1 [Test of hard sudokus](#51-test-of-hard-sudokus)  \n",
    "   5.2 [Dependence of number of iterations on number of empty cells](#52-dependence-of-number-of-iterations-on-number-of-empty-cells)"
   ]
  },
  {
   "cell_type": "markdown",
   "metadata": {},
   "source": [
    "## 1. Read Sudokus\n",
    "\n",
    "sudokus were taken from [http://magictour.free.fr/top1465](http://magictour.free.fr/top1465)"
   ]
  },
  {
   "cell_type": "code",
   "execution_count": 3,
   "metadata": {},
   "outputs": [],
   "source": [
    "def read_sudokus(filename=\"sudoku.txt\"):\n",
    "    with open(filename, \"r\") as f:\n",
    "        sudokus = f.readlines()\n",
    "    sudokus = [list(sudoku.strip()) for sudoku in sudokus]\n",
    "    return np.array([np.reshape(row, (9, 9)) for row in sudokus])"
   ]
  },
  {
   "cell_type": "markdown",
   "metadata": {},
   "source": [
    "## 2. Fill Sudoku"
   ]
  },
  {
   "cell_type": "markdown",
   "metadata": {},
   "source": [
    "### 2.1 Fill Sudoku\n",
    "\n",
    "Fill sudoku with all possible values randomly"
   ]
  },
  {
   "cell_type": "code",
   "execution_count": 4,
   "metadata": {},
   "outputs": [],
   "source": [
    "def fill_sudoku(sudoku):\n",
    "    positions = np.argwhere(sudoku == \"x\")\n",
    "    np.random.shuffle(positions)\n",
    "    numbers, counts = np.unique(sudoku, return_counts=True)\n",
    "    idx = 0\n",
    "    ranger = 0\n",
    "    for num in [str(i) for i in range(1, 10)]:\n",
    "        if num not in numbers:\n",
    "            ranger = 9\n",
    "        else:\n",
    "            ranger = 9 - counts[np.where(numbers == num)][0]\n",
    "        for _ in range(ranger):\n",
    "            sudoku[positions[idx][0], positions[idx][1]] = num\n",
    "            idx += 1\n",
    "    return sudoku"
   ]
  },
  {
   "cell_type": "markdown",
   "metadata": {},
   "source": [
    "### 2.2 Create sudoku\n",
    "\n",
    "Create sudoku with `filled_nums` filled cells."
   ]
  },
  {
   "cell_type": "code",
   "execution_count": 11,
   "metadata": {},
   "outputs": [
    {
     "data": {
      "text/plain": [
       "array([['7', '7', '2', '9', '1', '3', '3', '5', '2'],\n",
       "       ['2', '4', '1', '9', '4', '8', '6', '1', '6'],\n",
       "       ['7', '4', '7', '4', '6', '8', '1', '9', '3'],\n",
       "       ['5', '6', '4', '5', '5', '6', '6', '9', '9'],\n",
       "       ['3', '1', '5', '8', '9', '8', '7', '6', '7'],\n",
       "       ['7', '3', '5', '3', '6', '2', '4', '3', '2'],\n",
       "       ['7', '9', '5', '1', '3', '9', '5', '4', '8'],\n",
       "       ['1', '2', '8', '8', '4', '3', '2', '5', '9'],\n",
       "       ['7', '1', '4', '2', '6', '1', '8', '8', '2']], dtype='<U1')"
      ]
     },
     "execution_count": 11,
     "metadata": {},
     "output_type": "execute_result"
    }
   ],
   "source": [
    "def create_sudoku(filled_nums):\n",
    "    sudoku = np.array([[\"x\" for _ in range(9)] for _ in range(9)])\n",
    "    counter = {i: 0 for i in range(1, 10)}\n",
    "    positions = np.argwhere(sudoku == \"x\")\n",
    "    np.random.shuffle(positions)\n",
    "    for i in range(filled_nums):\n",
    "        # get random key from counter\n",
    "        key = np.random.choice(list(counter.keys()))\n",
    "        sudoku[positions[i][0], positions[i][1]] = str(key)\n",
    "        counter[key] += 1\n",
    "        if counter[key] == 9:\n",
    "            del counter[key]\n",
    "        \n",
    "    return sudoku"
   ]
  },
  {
   "cell_type": "markdown",
   "metadata": {},
   "source": [
    "## 3. Annealing"
   ]
  },
  {
   "cell_type": "markdown",
   "metadata": {},
   "source": [
    "### 3.1 Cost Function"
   ]
  },
  {
   "cell_type": "code",
   "execution_count": 6,
   "metadata": {},
   "outputs": [],
   "source": [
    "def count_inital_energy(sudoku):\n",
    "    energy = 0\n",
    "    for i in range(9):\n",
    "        _, cnt = np.unique(sudoku[i], return_counts=True)\n",
    "        energy += np.sum(cnt-1)\n",
    "        _, cnt = np.unique(sudoku[:, i], return_counts=True)\n",
    "        energy += np.sum(cnt-1)\n",
    "        _, cnt = np.unique(sudoku[i//3*3:i//3*3+3, i%3*3:i%3*3+3], return_counts=True)\n",
    "        energy += np.sum(cnt-1)\n",
    "    return energy"
   ]
  },
  {
   "cell_type": "code",
   "execution_count": 7,
   "metadata": {},
   "outputs": [],
   "source": [
    "def count_swap_energy(sudoku, x1, y1, x2, y2):\n",
    "    current = 0\n",
    "    _, cnt = np.unique(sudoku[x1], return_counts=True)\n",
    "    current += np.sum(cnt-1)\n",
    "    _, cnt = np.unique(sudoku[x2], return_counts=True)\n",
    "    current += np.sum(cnt-1)\n",
    "    _, cnt = np.unique(sudoku[:, y1], return_counts=True)\n",
    "    current += np.sum(cnt-1)\n",
    "    _, cnt = np.unique(sudoku[:, y2], return_counts=True)\n",
    "    current += np.sum(cnt-1)\n",
    "    _, cnt = np.unique(sudoku[x1//3*3:x1//3*3+3, y1//3*3:y1//3*3+3], return_counts=True)\n",
    "    current += np.sum(cnt-1)\n",
    "    _, cnt = np.unique(sudoku[x2//3*3:x2//3*3+3, y2//3*3:y2//3*3+3], return_counts=True)\n",
    "    current += np.sum(cnt-1)\n",
    "    return current"
   ]
  },
  {
   "cell_type": "markdown",
   "metadata": {},
   "source": [
    "### 3.2 Annealing Algorithm"
   ]
  },
  {
   "cell_type": "code",
   "execution_count": 8,
   "metadata": {},
   "outputs": [],
   "source": [
    "def annealing(sudoku, temp=1, step=0.999, acceptance=0.5, max_iter=100000):\n",
    "    sudoku = fill_sudoku(sudoku)\n",
    "    energy = count_inital_energy(sudoku)\n",
    "    data = {'iter': [], 'temp':[], 'energy': []}\n",
    "    notchanged = 0\n",
    "\n",
    "    for i in range(max_iter):\n",
    "        if energy == 0:   \n",
    "            sudoku, data, True\n",
    "        if notchanged > 1000 or temp < 0.001:\n",
    "            temp = min(1, temp+0.5)\n",
    "        x1, y1, x2, y2 = np.random.randint(0, 9, 4)\n",
    "        prev = count_swap_energy(sudoku, x1, y1, x2, y2)\n",
    "        sudoku[x1, y1], sudoku[x2, y2] = sudoku[x2, y2], sudoku[x1, y1]\n",
    "        current = count_swap_energy(sudoku, x1, y1, x2, y2)\n",
    "        if current < prev or (current - prev) * np.random.rand() < acceptance * temp:\n",
    "            energy += current - prev\n",
    "            notchanged = 0\n",
    "        else:\n",
    "            sudoku[x1, y1], sudoku[x2, y2] = sudoku[x2, y2], sudoku[x1, y1]\n",
    "            notchanged += 1\n",
    "        temp *= step\n",
    "\n",
    "        data['iter'].append(i)\n",
    "        data['temp'].append(temp)\n",
    "        data['energy'].append(energy)\n",
    "\n",
    "    return sudoku, data, False"
   ]
  },
  {
   "cell_type": "markdown",
   "metadata": {},
   "source": [
    "## 4. Vizualization"
   ]
  },
  {
   "cell_type": "code",
   "execution_count": 9,
   "metadata": {},
   "outputs": [],
   "source": [
    "def plot(data):\n",
    "    fig, ax = plt.subplots(1, 2, figsize=(10, 5))\n",
    "    ax[0].plot(data['iter'], data['temp'])\n",
    "    ax[0].set_title('Temperature')\n",
    "    ax[1].plot(data['iter'], data['energy'])\n",
    "    ax[1].set_title('Energy')\n",
    "    plt.show()"
   ]
  },
  {
   "cell_type": "markdown",
   "metadata": {},
   "source": [
    "## 5. Results"
   ]
  },
  {
   "cell_type": "markdown",
   "metadata": {},
   "source": [
    "### 5.1 Test of hard sudokus"
   ]
  },
  {
   "cell_type": "code",
   "execution_count": 12,
   "metadata": {},
   "outputs": [
    {
     "name": "stdout",
     "output_type": "stream",
     "text": [
      "Test 1\n",
      "Success: False\n",
      "Test 2\n",
      "Success: False\n",
      "Test 3\n"
     ]
    },
    {
     "ename": "KeyboardInterrupt",
     "evalue": "",
     "output_type": "error",
     "traceback": [
      "\u001b[1;31m---------------------------------------------------------------------------\u001b[0m",
      "\u001b[1;31mKeyboardInterrupt\u001b[0m                         Traceback (most recent call last)",
      "Cell \u001b[1;32mIn[12], line 8\u001b[0m\n\u001b[0;32m      5\u001b[0m         sudoku[i], data, success \u001b[38;5;241m=\u001b[39m annealing(sudoku[i])\n\u001b[0;32m      6\u001b[0m         \u001b[38;5;28mprint\u001b[39m(\u001b[38;5;124mf\u001b[39m\u001b[38;5;124m\"\u001b[39m\u001b[38;5;124mSuccess: \u001b[39m\u001b[38;5;132;01m{\u001b[39;00msuccess\u001b[38;5;132;01m}\u001b[39;00m\u001b[38;5;124m\"\u001b[39m)\n\u001b[1;32m----> 8\u001b[0m \u001b[43mtest_hard\u001b[49m\u001b[43m(\u001b[49m\u001b[43m)\u001b[49m\n",
      "Cell \u001b[1;32mIn[12], line 5\u001b[0m, in \u001b[0;36mtest_hard\u001b[1;34m()\u001b[0m\n\u001b[0;32m      3\u001b[0m \u001b[38;5;28;01mfor\u001b[39;00m i \u001b[38;5;129;01min\u001b[39;00m \u001b[38;5;28mrange\u001b[39m(\u001b[38;5;241m50\u001b[39m):\n\u001b[0;32m      4\u001b[0m     \u001b[38;5;28mprint\u001b[39m(\u001b[38;5;124mf\u001b[39m\u001b[38;5;124m\"\u001b[39m\u001b[38;5;124mTest \u001b[39m\u001b[38;5;132;01m{\u001b[39;00mi\u001b[38;5;241m+\u001b[39m\u001b[38;5;241m1\u001b[39m\u001b[38;5;132;01m}\u001b[39;00m\u001b[38;5;124m\"\u001b[39m)\n\u001b[1;32m----> 5\u001b[0m     sudoku[i], data, success \u001b[38;5;241m=\u001b[39m \u001b[43mannealing\u001b[49m\u001b[43m(\u001b[49m\u001b[43msudoku\u001b[49m\u001b[43m[\u001b[49m\u001b[43mi\u001b[49m\u001b[43m]\u001b[49m\u001b[43m)\u001b[49m\n\u001b[0;32m      6\u001b[0m     \u001b[38;5;28mprint\u001b[39m(\u001b[38;5;124mf\u001b[39m\u001b[38;5;124m\"\u001b[39m\u001b[38;5;124mSuccess: \u001b[39m\u001b[38;5;132;01m{\u001b[39;00msuccess\u001b[38;5;132;01m}\u001b[39;00m\u001b[38;5;124m\"\u001b[39m)\n",
      "Cell \u001b[1;32mIn[8], line 13\u001b[0m, in \u001b[0;36mannealing\u001b[1;34m(sudoku, temp, step, acceptance, max_iter)\u001b[0m\n\u001b[0;32m     11\u001b[0m prev \u001b[38;5;241m=\u001b[39m count_swap_energy(sudoku, x1, y1, x2, y2)\n\u001b[0;32m     12\u001b[0m sudoku[x1, y1], sudoku[x2, y2] \u001b[38;5;241m=\u001b[39m sudoku[x2, y2], sudoku[x1, y1]\n\u001b[1;32m---> 13\u001b[0m current \u001b[38;5;241m=\u001b[39m \u001b[43mcount_swap_energy\u001b[49m\u001b[43m(\u001b[49m\u001b[43msudoku\u001b[49m\u001b[43m,\u001b[49m\u001b[43m \u001b[49m\u001b[43mx1\u001b[49m\u001b[43m,\u001b[49m\u001b[43m \u001b[49m\u001b[43my1\u001b[49m\u001b[43m,\u001b[49m\u001b[43m \u001b[49m\u001b[43mx2\u001b[49m\u001b[43m,\u001b[49m\u001b[43m \u001b[49m\u001b[43my2\u001b[49m\u001b[43m)\u001b[49m\n\u001b[0;32m     14\u001b[0m \u001b[38;5;28;01mif\u001b[39;00m current \u001b[38;5;241m<\u001b[39m prev \u001b[38;5;129;01mor\u001b[39;00m (current \u001b[38;5;241m-\u001b[39m prev) \u001b[38;5;241m*\u001b[39m np\u001b[38;5;241m.\u001b[39mrandom\u001b[38;5;241m.\u001b[39mrand() \u001b[38;5;241m<\u001b[39m acceptance \u001b[38;5;241m*\u001b[39m temp:\n\u001b[0;32m     15\u001b[0m     energy \u001b[38;5;241m+\u001b[39m\u001b[38;5;241m=\u001b[39m current \u001b[38;5;241m-\u001b[39m prev\n",
      "Cell \u001b[1;32mIn[7], line 7\u001b[0m, in \u001b[0;36mcount_swap_energy\u001b[1;34m(sudoku, x1, y1, x2, y2)\u001b[0m\n\u001b[0;32m      5\u001b[0m _, cnt \u001b[38;5;241m=\u001b[39m np\u001b[38;5;241m.\u001b[39munique(sudoku[x2], return_counts\u001b[38;5;241m=\u001b[39m\u001b[38;5;28;01mTrue\u001b[39;00m)\n\u001b[0;32m      6\u001b[0m current \u001b[38;5;241m+\u001b[39m\u001b[38;5;241m=\u001b[39m np\u001b[38;5;241m.\u001b[39msum(cnt\u001b[38;5;241m-\u001b[39m\u001b[38;5;241m1\u001b[39m)\n\u001b[1;32m----> 7\u001b[0m _, cnt \u001b[38;5;241m=\u001b[39m \u001b[43mnp\u001b[49m\u001b[38;5;241;43m.\u001b[39;49m\u001b[43munique\u001b[49m\u001b[43m(\u001b[49m\u001b[43msudoku\u001b[49m\u001b[43m[\u001b[49m\u001b[43m:\u001b[49m\u001b[43m,\u001b[49m\u001b[43m \u001b[49m\u001b[43my1\u001b[49m\u001b[43m]\u001b[49m\u001b[43m,\u001b[49m\u001b[43m \u001b[49m\u001b[43mreturn_counts\u001b[49m\u001b[38;5;241;43m=\u001b[39;49m\u001b[38;5;28;43;01mTrue\u001b[39;49;00m\u001b[43m)\u001b[49m\n\u001b[0;32m      8\u001b[0m current \u001b[38;5;241m+\u001b[39m\u001b[38;5;241m=\u001b[39m np\u001b[38;5;241m.\u001b[39msum(cnt\u001b[38;5;241m-\u001b[39m\u001b[38;5;241m1\u001b[39m)\n\u001b[0;32m      9\u001b[0m _, cnt \u001b[38;5;241m=\u001b[39m np\u001b[38;5;241m.\u001b[39munique(sudoku[:, y2], return_counts\u001b[38;5;241m=\u001b[39m\u001b[38;5;28;01mTrue\u001b[39;00m)\n",
      "File \u001b[1;32mc:\\Users\\acer\\anaconda3\\lib\\site-packages\\numpy\\lib\\arraysetops.py:274\u001b[0m, in \u001b[0;36munique\u001b[1;34m(ar, return_index, return_inverse, return_counts, axis, equal_nan)\u001b[0m\n\u001b[0;32m    272\u001b[0m ar \u001b[38;5;241m=\u001b[39m np\u001b[38;5;241m.\u001b[39masanyarray(ar)\n\u001b[0;32m    273\u001b[0m \u001b[38;5;28;01mif\u001b[39;00m axis \u001b[38;5;129;01mis\u001b[39;00m \u001b[38;5;28;01mNone\u001b[39;00m:\n\u001b[1;32m--> 274\u001b[0m     ret \u001b[38;5;241m=\u001b[39m \u001b[43m_unique1d\u001b[49m\u001b[43m(\u001b[49m\u001b[43mar\u001b[49m\u001b[43m,\u001b[49m\u001b[43m \u001b[49m\u001b[43mreturn_index\u001b[49m\u001b[43m,\u001b[49m\u001b[43m \u001b[49m\u001b[43mreturn_inverse\u001b[49m\u001b[43m,\u001b[49m\u001b[43m \u001b[49m\u001b[43mreturn_counts\u001b[49m\u001b[43m,\u001b[49m\u001b[43m \u001b[49m\n\u001b[0;32m    275\u001b[0m \u001b[43m                    \u001b[49m\u001b[43mequal_nan\u001b[49m\u001b[38;5;241;43m=\u001b[39;49m\u001b[43mequal_nan\u001b[49m\u001b[43m)\u001b[49m\n\u001b[0;32m    276\u001b[0m     \u001b[38;5;28;01mreturn\u001b[39;00m _unpack_tuple(ret)\n\u001b[0;32m    278\u001b[0m \u001b[38;5;66;03m# axis was specified and not None\u001b[39;00m\n",
      "File \u001b[1;32mc:\\Users\\acer\\anaconda3\\lib\\site-packages\\numpy\\lib\\arraysetops.py:336\u001b[0m, in \u001b[0;36m_unique1d\u001b[1;34m(ar, return_index, return_inverse, return_counts, equal_nan)\u001b[0m\n\u001b[0;32m    334\u001b[0m     aux \u001b[38;5;241m=\u001b[39m ar[perm]\n\u001b[0;32m    335\u001b[0m \u001b[38;5;28;01melse\u001b[39;00m:\n\u001b[1;32m--> 336\u001b[0m     \u001b[43mar\u001b[49m\u001b[38;5;241;43m.\u001b[39;49m\u001b[43msort\u001b[49m\u001b[43m(\u001b[49m\u001b[43m)\u001b[49m\n\u001b[0;32m    337\u001b[0m     aux \u001b[38;5;241m=\u001b[39m ar\n\u001b[0;32m    338\u001b[0m mask \u001b[38;5;241m=\u001b[39m np\u001b[38;5;241m.\u001b[39mempty(aux\u001b[38;5;241m.\u001b[39mshape, dtype\u001b[38;5;241m=\u001b[39mnp\u001b[38;5;241m.\u001b[39mbool_)\n",
      "\u001b[1;31mKeyboardInterrupt\u001b[0m: "
     ]
    }
   ],
   "source": [
    "def test_hard():\n",
    "    sudoku = read_sudokus()\n",
    "    for i in range(20):\n",
    "        _, _, success = annealing(sudoku[i])\n",
    "        print(f\"Test {i+1}: {success}\")\n",
    "\n",
    "test_hard()"
   ]
  },
  {
   "cell_type": "markdown",
   "metadata": {},
   "source": [
    "### 5.2 Dependence of number of iterations on number of empty cells"
   ]
  },
  {
   "cell_type": "code",
   "execution_count": 13,
   "metadata": {},
   "outputs": [
    {
     "ename": "KeyboardInterrupt",
     "evalue": "",
     "output_type": "error",
     "traceback": [
      "\u001b[1;31m---------------------------------------------------------------------------\u001b[0m",
      "\u001b[1;31mKeyboardInterrupt\u001b[0m                         Traceback (most recent call last)",
      "Cell \u001b[1;32mIn[13], line 9\u001b[0m\n\u001b[0;32m      6\u001b[0m         data[i] \u001b[38;5;241m=\u001b[39m res[\u001b[38;5;124m'\u001b[39m\u001b[38;5;124miter\u001b[39m\u001b[38;5;124m'\u001b[39m][\u001b[38;5;241m-\u001b[39m\u001b[38;5;241m1\u001b[39m]\n\u001b[0;32m      7\u001b[0m     plt\u001b[38;5;241m.\u001b[39mplot(data)\n\u001b[1;32m----> 9\u001b[0m \u001b[43mdepenence\u001b[49m\u001b[43m(\u001b[49m\u001b[43m)\u001b[49m\n",
      "Cell \u001b[1;32mIn[13], line 5\u001b[0m, in \u001b[0;36mdepenence\u001b[1;34m()\u001b[0m\n\u001b[0;32m      3\u001b[0m \u001b[38;5;28;01mfor\u001b[39;00m i \u001b[38;5;129;01min\u001b[39;00m \u001b[38;5;28mrange\u001b[39m(\u001b[38;5;241m82\u001b[39m):\n\u001b[0;32m      4\u001b[0m     sudoku \u001b[38;5;241m=\u001b[39m create_sudoku(i)\n\u001b[1;32m----> 5\u001b[0m     _, res, _ \u001b[38;5;241m=\u001b[39m \u001b[43mannealing\u001b[49m\u001b[43m(\u001b[49m\u001b[43msudoku\u001b[49m\u001b[43m)\u001b[49m\n\u001b[0;32m      6\u001b[0m     data[i] \u001b[38;5;241m=\u001b[39m res[\u001b[38;5;124m'\u001b[39m\u001b[38;5;124miter\u001b[39m\u001b[38;5;124m'\u001b[39m][\u001b[38;5;241m-\u001b[39m\u001b[38;5;241m1\u001b[39m]\n\u001b[0;32m      7\u001b[0m plt\u001b[38;5;241m.\u001b[39mplot(data)\n",
      "Cell \u001b[1;32mIn[8], line 11\u001b[0m, in \u001b[0;36mannealing\u001b[1;34m(sudoku, temp, step, acceptance, max_iter)\u001b[0m\n\u001b[0;32m      9\u001b[0m \u001b[38;5;28;01mif\u001b[39;00m notchanged \u001b[38;5;241m>\u001b[39m \u001b[38;5;241m1000\u001b[39m: temp \u001b[38;5;241m=\u001b[39m \u001b[38;5;28mmin\u001b[39m(\u001b[38;5;241m1\u001b[39m, temp\u001b[38;5;241m+\u001b[39m\u001b[38;5;241m0.3\u001b[39m)\n\u001b[0;32m     10\u001b[0m x1, y1, x2, y2 \u001b[38;5;241m=\u001b[39m np\u001b[38;5;241m.\u001b[39mrandom\u001b[38;5;241m.\u001b[39mrandint(\u001b[38;5;241m0\u001b[39m, \u001b[38;5;241m9\u001b[39m, \u001b[38;5;241m4\u001b[39m)\n\u001b[1;32m---> 11\u001b[0m prev \u001b[38;5;241m=\u001b[39m \u001b[43mcount_swap_energy\u001b[49m\u001b[43m(\u001b[49m\u001b[43msudoku\u001b[49m\u001b[43m,\u001b[49m\u001b[43m \u001b[49m\u001b[43mx1\u001b[49m\u001b[43m,\u001b[49m\u001b[43m \u001b[49m\u001b[43my1\u001b[49m\u001b[43m,\u001b[49m\u001b[43m \u001b[49m\u001b[43mx2\u001b[49m\u001b[43m,\u001b[49m\u001b[43m \u001b[49m\u001b[43my2\u001b[49m\u001b[43m)\u001b[49m\n\u001b[0;32m     12\u001b[0m sudoku[x1, y1], sudoku[x2, y2] \u001b[38;5;241m=\u001b[39m sudoku[x2, y2], sudoku[x1, y1]\n\u001b[0;32m     13\u001b[0m current \u001b[38;5;241m=\u001b[39m count_swap_energy(sudoku, x1, y1, x2, y2)\n",
      "Cell \u001b[1;32mIn[7], line 9\u001b[0m, in \u001b[0;36mcount_swap_energy\u001b[1;34m(sudoku, x1, y1, x2, y2)\u001b[0m\n\u001b[0;32m      7\u001b[0m _, cnt \u001b[38;5;241m=\u001b[39m np\u001b[38;5;241m.\u001b[39munique(sudoku[:, y1], return_counts\u001b[38;5;241m=\u001b[39m\u001b[38;5;28;01mTrue\u001b[39;00m)\n\u001b[0;32m      8\u001b[0m current \u001b[38;5;241m+\u001b[39m\u001b[38;5;241m=\u001b[39m np\u001b[38;5;241m.\u001b[39msum(cnt\u001b[38;5;241m-\u001b[39m\u001b[38;5;241m1\u001b[39m)\n\u001b[1;32m----> 9\u001b[0m _, cnt \u001b[38;5;241m=\u001b[39m \u001b[43mnp\u001b[49m\u001b[38;5;241;43m.\u001b[39;49m\u001b[43munique\u001b[49m\u001b[43m(\u001b[49m\u001b[43msudoku\u001b[49m\u001b[43m[\u001b[49m\u001b[43m:\u001b[49m\u001b[43m,\u001b[49m\u001b[43m \u001b[49m\u001b[43my2\u001b[49m\u001b[43m]\u001b[49m\u001b[43m,\u001b[49m\u001b[43m \u001b[49m\u001b[43mreturn_counts\u001b[49m\u001b[38;5;241;43m=\u001b[39;49m\u001b[38;5;28;43;01mTrue\u001b[39;49;00m\u001b[43m)\u001b[49m\n\u001b[0;32m     10\u001b[0m current \u001b[38;5;241m+\u001b[39m\u001b[38;5;241m=\u001b[39m np\u001b[38;5;241m.\u001b[39msum(cnt\u001b[38;5;241m-\u001b[39m\u001b[38;5;241m1\u001b[39m)\n\u001b[0;32m     11\u001b[0m _, cnt \u001b[38;5;241m=\u001b[39m np\u001b[38;5;241m.\u001b[39munique(sudoku[x1\u001b[38;5;241m/\u001b[39m\u001b[38;5;241m/\u001b[39m\u001b[38;5;241m3\u001b[39m\u001b[38;5;241m*\u001b[39m\u001b[38;5;241m3\u001b[39m:x1\u001b[38;5;241m/\u001b[39m\u001b[38;5;241m/\u001b[39m\u001b[38;5;241m3\u001b[39m\u001b[38;5;241m*\u001b[39m\u001b[38;5;241m3\u001b[39m\u001b[38;5;241m+\u001b[39m\u001b[38;5;241m3\u001b[39m, y1\u001b[38;5;241m/\u001b[39m\u001b[38;5;241m/\u001b[39m\u001b[38;5;241m3\u001b[39m\u001b[38;5;241m*\u001b[39m\u001b[38;5;241m3\u001b[39m:y1\u001b[38;5;241m/\u001b[39m\u001b[38;5;241m/\u001b[39m\u001b[38;5;241m3\u001b[39m\u001b[38;5;241m*\u001b[39m\u001b[38;5;241m3\u001b[39m\u001b[38;5;241m+\u001b[39m\u001b[38;5;241m3\u001b[39m], return_counts\u001b[38;5;241m=\u001b[39m\u001b[38;5;28;01mTrue\u001b[39;00m)\n",
      "File \u001b[1;32mc:\\Users\\acer\\anaconda3\\lib\\site-packages\\numpy\\lib\\arraysetops.py:274\u001b[0m, in \u001b[0;36munique\u001b[1;34m(ar, return_index, return_inverse, return_counts, axis, equal_nan)\u001b[0m\n\u001b[0;32m    272\u001b[0m ar \u001b[38;5;241m=\u001b[39m np\u001b[38;5;241m.\u001b[39masanyarray(ar)\n\u001b[0;32m    273\u001b[0m \u001b[38;5;28;01mif\u001b[39;00m axis \u001b[38;5;129;01mis\u001b[39;00m \u001b[38;5;28;01mNone\u001b[39;00m:\n\u001b[1;32m--> 274\u001b[0m     ret \u001b[38;5;241m=\u001b[39m \u001b[43m_unique1d\u001b[49m\u001b[43m(\u001b[49m\u001b[43mar\u001b[49m\u001b[43m,\u001b[49m\u001b[43m \u001b[49m\u001b[43mreturn_index\u001b[49m\u001b[43m,\u001b[49m\u001b[43m \u001b[49m\u001b[43mreturn_inverse\u001b[49m\u001b[43m,\u001b[49m\u001b[43m \u001b[49m\u001b[43mreturn_counts\u001b[49m\u001b[43m,\u001b[49m\u001b[43m \u001b[49m\n\u001b[0;32m    275\u001b[0m \u001b[43m                    \u001b[49m\u001b[43mequal_nan\u001b[49m\u001b[38;5;241;43m=\u001b[39;49m\u001b[43mequal_nan\u001b[49m\u001b[43m)\u001b[49m\n\u001b[0;32m    276\u001b[0m     \u001b[38;5;28;01mreturn\u001b[39;00m _unpack_tuple(ret)\n\u001b[0;32m    278\u001b[0m \u001b[38;5;66;03m# axis was specified and not None\u001b[39;00m\n",
      "File \u001b[1;32mc:\\Users\\acer\\anaconda3\\lib\\site-packages\\numpy\\lib\\arraysetops.py:336\u001b[0m, in \u001b[0;36m_unique1d\u001b[1;34m(ar, return_index, return_inverse, return_counts, equal_nan)\u001b[0m\n\u001b[0;32m    334\u001b[0m     aux \u001b[38;5;241m=\u001b[39m ar[perm]\n\u001b[0;32m    335\u001b[0m \u001b[38;5;28;01melse\u001b[39;00m:\n\u001b[1;32m--> 336\u001b[0m     \u001b[43mar\u001b[49m\u001b[38;5;241;43m.\u001b[39;49m\u001b[43msort\u001b[49m\u001b[43m(\u001b[49m\u001b[43m)\u001b[49m\n\u001b[0;32m    337\u001b[0m     aux \u001b[38;5;241m=\u001b[39m ar\n\u001b[0;32m    338\u001b[0m mask \u001b[38;5;241m=\u001b[39m np\u001b[38;5;241m.\u001b[39mempty(aux\u001b[38;5;241m.\u001b[39mshape, dtype\u001b[38;5;241m=\u001b[39mnp\u001b[38;5;241m.\u001b[39mbool_)\n",
      "\u001b[1;31mKeyboardInterrupt\u001b[0m: "
     ]
    }
   ],
   "source": [
    "def depenence():\n",
    "    data = np.zeros(82)\n",
    "    for i in range(82):\n",
    "        sudoku = create_sudoku(i)\n",
    "        _, res, _ = annealing(sudoku)\n",
    "        data[i] = res['iter'][-1]\n",
    "    plt.plot(data)\n",
    "\n",
    "depenence()"
   ]
  },
  {
   "cell_type": "markdown",
   "metadata": {},
   "source": [
    "---"
   ]
  }
 ],
 "metadata": {
  "kernelspec": {
   "display_name": "base",
   "language": "python",
   "name": "python3"
  },
  "language_info": {
   "codemirror_mode": {
    "name": "ipython",
    "version": 3
   },
   "file_extension": ".py",
   "mimetype": "text/x-python",
   "name": "python",
   "nbconvert_exporter": "python",
   "pygments_lexer": "ipython3",
   "version": "3.10.9"
  }
 },
 "nbformat": 4,
 "nbformat_minor": 2
}
