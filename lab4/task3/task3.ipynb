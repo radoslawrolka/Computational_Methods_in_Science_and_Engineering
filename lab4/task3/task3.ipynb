{
 "cells": [
  {
   "cell_type": "code",
   "execution_count": 58,
   "metadata": {},
   "outputs": [],
   "source": [
    "import numpy as np\n",
    "import matplotlib.pyplot as plt"
   ]
  },
  {
   "cell_type": "markdown",
   "metadata": {},
   "source": [
    "# Sudoku Solver using Annealing"
   ]
  },
  {
   "cell_type": "markdown",
   "metadata": {},
   "source": [
    "Napisz program poszukujący rozwiązania łamigłówki Sudoku za pomocą symulowanego\n",
    "wyżarzania. \n",
    "\n",
    "- Plansza 9 ×9 ma zostać wczytana z pliku tekstowego, w którym pola puste\n",
    "zaznaczone są znakiem x. \n",
    "- Jako funkcję kosztu przyjmij sumę powtórzeń cyfr występu-\n",
    "jących w wierszach bloku 9 ×9, kolumnach bloku 9 ×9 oraz blokach 3 ×3. \n",
    "- Zaproponuj metodę generacji stanu sąsiedniego. \n",
    "- Przedstaw zależność liczby iteracji algorytmu od liczby pustych miejsc na planszy. \n",
    "- Czy Twój program jest w stanie znaleźć poprawne rozwiązanie dla każdej z testowanych konfiguracji wejściowych?"
   ]
  },
  {
   "cell_type": "markdown",
   "metadata": {},
   "source": [
    "## Table of Contents"
   ]
  },
  {
   "cell_type": "markdown",
   "metadata": {},
   "source": [
    "1. [Read Sudokus](#1-read-sudokus)\n",
    "2. [Fill Sudoku](#2-fill-sudoku)  \n",
    "    2.1 [Fill Sudoku](#21-fill-sudoku)  \n",
    "    2.2 [Create sudoku](#22-create-sudoku)\n",
    "3. [Annealing](#3-annealing)  \n",
    "    3.1 [Cost Function](#31-cost-function)  \n",
    "    3.2 [Annealing Algorithm](#32-annealing-algorithm)\n",
    "4. [Vizualization](#4-vizualization)\n",
    "5. [Results](#5-results)  \n",
    "   5.1 [Test of hard sudokus](#51-test-of-hard-sudokus)  \n",
    "   5.2 [Dependence of number of iterations on number of empty cells](#52-dependence-of-number-of-iterations-on-number-of-empty-cells)"
   ]
  },
  {
   "cell_type": "markdown",
   "metadata": {},
   "source": [
    "## 1. Read Sudokus\n",
    "\n",
    "sudokus were taken from [http://magictour.free.fr/top1465](http://magictour.free.fr/top1465)"
   ]
  },
  {
   "cell_type": "code",
   "execution_count": 59,
   "metadata": {},
   "outputs": [],
   "source": [
    "def read_sudokus(filename=\"sudoku.txt\"):\n",
    "    with open(filename, \"r\") as f:\n",
    "        sudokus = f.readlines()\n",
    "    sudokus = [list(sudoku.strip()) for sudoku in sudokus]\n",
    "    return np.array([np.reshape(row, (9, 9)) for row in sudokus])"
   ]
  },
  {
   "cell_type": "markdown",
   "metadata": {},
   "source": [
    "## 2. Fill Sudoku"
   ]
  },
  {
   "cell_type": "markdown",
   "metadata": {},
   "source": [
    "### 2.1 Fill Sudoku\n",
    "\n",
    "Fill sudoku with all possible values randomly in each row."
   ]
  },
  {
   "cell_type": "code",
   "execution_count": 60,
   "metadata": {},
   "outputs": [],
   "source": [
    "def fill_sudoku(sudoku):\n",
    "    positions = np.argwhere(sudoku == \"x\")\n",
    "    positionssorted = dict(enumerate([[p for p in positions if p[0] == i] for i in range(9)]))\n",
    "    for row in range(9):\n",
    "        if len(positionssorted[row]) < 2:\n",
    "            positionssorted.pop(row)\n",
    "        nums = set([str(i) for i in range(1, 10)])\n",
    "        for col in range(9):\n",
    "            if sudoku[row, col] != \"x\":\n",
    "                nums.remove(sudoku[row, col])\n",
    "        for col in range(9):\n",
    "            if sudoku[row, col] == \"x\":\n",
    "                sudoku[row, col] = nums.pop()       \n",
    "        \n",
    "    return sudoku, positionssorted"
   ]
  },
  {
   "cell_type": "markdown",
   "metadata": {},
   "source": [
    "### 2.2 Create sudoku\n",
    "\n",
    "Create sudoku with `remove_nums` removed cells, requires sudoku in `filename` to be filled."
   ]
  },
  {
   "cell_type": "code",
   "execution_count": 61,
   "metadata": {},
   "outputs": [],
   "source": [
    "def create_sudoku(remove_nums, filename=\"solved.txt\"):\n",
    "    sudoku = read_sudokus(filename)[0]\n",
    "    positions = [(i, j) for i in range(9) for j in range(9)]\n",
    "    for _ in range(remove_nums):\n",
    "        idx = np.random.choice(len(positions))\n",
    "        pos = positions.pop(idx)\n",
    "        sudoku[pos[0], pos[1]] = \"x\"\n",
    "        \n",
    "    return sudoku"
   ]
  },
  {
   "cell_type": "markdown",
   "metadata": {},
   "source": [
    "## 3. Annealing"
   ]
  },
  {
   "cell_type": "markdown",
   "metadata": {},
   "source": [
    "### 3.1 Cost Function"
   ]
  },
  {
   "cell_type": "markdown",
   "metadata": {},
   "source": [
    "Checks how many times each number is repeated in columns and 3x3 blocks."
   ]
  },
  {
   "cell_type": "code",
   "execution_count": 62,
   "metadata": {},
   "outputs": [],
   "source": [
    "def count_inital_energy(sudoku):\n",
    "    energy = 0\n",
    "    for i in range(9):\n",
    "        _, cnt = np.unique(sudoku[i], return_counts=True)\n",
    "        energy += np.sum(cnt-1)\n",
    "        _, cnt = np.unique(sudoku[:, i], return_counts=True)\n",
    "        energy += np.sum(cnt-1)\n",
    "        _, cnt = np.unique(sudoku[i//3*3:i//3*3+3, i%3*3:i%3*3+3], return_counts=True)\n",
    "        energy += np.sum(cnt-1)\n",
    "    return energy"
   ]
  },
  {
   "cell_type": "code",
   "execution_count": 63,
   "metadata": {},
   "outputs": [],
   "source": [
    "def count_swap_energy(sudoku, x1, y1, x2, y2):\n",
    "    current = 0\n",
    "    _, cnt = np.unique(sudoku[:, y1], return_counts=True)\n",
    "    current += np.sum(cnt-1)\n",
    "    _, cnt = np.unique(sudoku[:, y2], return_counts=True)\n",
    "    current += np.sum(cnt-1)\n",
    "    _, cnt = np.unique(sudoku[x1//3*3:x1//3*3+3, y1//3*3:y1//3*3+3], return_counts=True)\n",
    "    current += np.sum(cnt-1)\n",
    "    _, cnt = np.unique(sudoku[x2//3*3:x2//3*3+3, y2//3*3:y2//3*3+3], return_counts=True)\n",
    "    current += np.sum(cnt-1)\n",
    "    return current"
   ]
  },
  {
   "cell_type": "markdown",
   "metadata": {},
   "source": [
    "### 3.2 Annealing Algorithm"
   ]
  },
  {
   "cell_type": "code",
   "execution_count": 64,
   "metadata": {},
   "outputs": [],
   "source": [
    "def annealing(sudoku, temp=1, step=0.999, max_iter=5000000):\n",
    "    sudoku, positions = fill_sudoku(sudoku)\n",
    "    energy = count_inital_energy(sudoku)\n",
    "    data = {'iter': [], 'temp':[], 'energy': []}\n",
    "\n",
    "    for i in range(max_iter):\n",
    "        if energy == 0:   \n",
    "            return sudoku, data, True\n",
    "        if temp < 0.01:\n",
    "            temp = min(1, temp+0.5)\n",
    "    \n",
    "        row = np.random.choice(list(positions.keys()))       \n",
    "        c1, c2 = np.random.choice(len(positions[row]), 2, replace=False)\n",
    "        x1, y1 = positions[row][c1][0], positions[row][c1][1]\n",
    "        x2, y2 = positions[row][c2][0], positions[row][c2][1]\n",
    "        prev = count_swap_energy(sudoku, x1, y1, x2, y2)\n",
    "        sudoku[x1, y1], sudoku[x2, y2] = sudoku[x2, y2], sudoku[x1, y1]\n",
    "        current = count_swap_energy(sudoku, x1, y1, x2, y2)\n",
    "        try:\n",
    "            acceptance = np.exp((prev - current) / temp)\n",
    "        except:\n",
    "            acceptance = 0\n",
    "        if current < prev or (current - prev) * np.random.rand() < acceptance:\n",
    "            energy += current - prev\n",
    "        else:\n",
    "            sudoku[x1, y1], sudoku[x2, y2] = sudoku[x2, y2], sudoku[x1, y1]\n",
    "        temp *= step\n",
    "\n",
    "        data['iter'].append(i)\n",
    "        data['temp'].append(temp)\n",
    "        data['energy'].append(energy)\n",
    "\n",
    "    return sudoku, data, False"
   ]
  },
  {
   "cell_type": "markdown",
   "metadata": {},
   "source": [
    "## 4. Vizualization"
   ]
  },
  {
   "cell_type": "code",
   "execution_count": 65,
   "metadata": {},
   "outputs": [],
   "source": [
    "def plot(data):\n",
    "    fig, ax = plt.subplots(1, 2, figsize=(10, 5))\n",
    "    ax[0].plot(data['iter'], data['temp'])\n",
    "    ax[0].set_title('Temperature')\n",
    "    ax[1].plot(data['iter'], data['energy'])\n",
    "    ax[1].set_title('Energy')\n",
    "    plt.show()"
   ]
  },
  {
   "cell_type": "markdown",
   "metadata": {},
   "source": [
    "## 5. Results"
   ]
  },
  {
   "cell_type": "markdown",
   "metadata": {},
   "source": [
    "### 5.1 Test of hard sudokus"
   ]
  },
  {
   "cell_type": "code",
   "execution_count": 68,
   "metadata": {},
   "outputs": [
    {
     "name": "stdout",
     "output_type": "stream",
     "text": [
      "Test 1: True\n",
      "Test 2: True\n",
      "Test 3: True\n",
      "Test 4: True\n",
      "Test 5: True\n",
      "Test 6: True\n",
      "Test 7: False\n",
      "Test 8: True\n",
      "Test 9: True\n",
      "Test 10: True\n"
     ]
    }
   ],
   "source": [
    "def test_hard():\n",
    "    sudoku = read_sudokus()\n",
    "    for i in range(10):\n",
    "        _, _, success = annealing(sudoku[i])\n",
    "        print(f\"Test {i+1}: {success}\")\n",
    "\n",
    "test_hard()\n"
   ]
  },
  {
   "cell_type": "markdown",
   "metadata": {},
   "source": [
    "### 5.2 Dependence of number of iterations on number of empty cells"
   ]
  },
  {
   "cell_type": "code",
   "execution_count": 70,
   "metadata": {},
   "outputs": [
    {
     "data": {
      "image/png": "[encoded data removed]",
      "text/plain": [
       "<Figure size 640x480 with 1 Axes>"
      ]
     },
     "metadata": {},
     "output_type": "display_data"
    }
   ],
   "source": [
    "def depenence():\n",
    "    data = np.zeros(82)\n",
    "    for i in range(82):\n",
    "        sum = 0\n",
    "        for _ in range(3):\n",
    "            sudoku = create_sudoku(i)\n",
    "            _, res, _ = annealing(sudoku)\n",
    "            if len(res['iter']) != 0:\n",
    "                sum += res['iter'][-1]\n",
    "        data[i] = sum / 3\n",
    "    plt.plot(data)\n",
    "\n",
    "depenence()"
   ]
  },
  {
   "cell_type": "markdown",
   "metadata": {},
   "source": [
    "The most iterations are needed for sudokus between 50-60 empty cells. Those sudokus are the hardest to solve, due to the fact that there are many possible solutions, and the algorithm has to find the correct one."
   ]
  },
  {
   "cell_type": "markdown",
   "metadata": {},
   "source": [
    "---"
   ]
  }
 ],
 "metadata": {
  "kernelspec": {
   "display_name": "base",
   "language": "python",
   "name": "python3"
  },
  "language_info": {
   "codemirror_mode": {
    "name": "ipython",
    "version": 3
   },
   "file_extension": ".py",
   "mimetype": "text/x-python",
   "name": "python",
   "nbconvert_exporter": "python",
   "pygments_lexer": "ipython3",
   "version": "3.10.9"
  }
 },
 "nbformat": 4,
 "nbformat_minor": 2
}
