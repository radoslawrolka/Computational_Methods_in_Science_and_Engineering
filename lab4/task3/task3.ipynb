{
 "cells": [
  {
   "cell_type": "code",
   "execution_count": 75,
   "metadata": {},
   "outputs": [],
   "source": [
    "import numpy as np\n",
    "import matplotlib.pyplot as plt"
   ]
  },
  {
   "cell_type": "markdown",
   "metadata": {},
   "source": [
    "# Sudoku Solver using Annealing"
   ]
  },
  {
   "cell_type": "markdown",
   "metadata": {},
   "source": [
    "Napisz program poszukujący rozwiązania łamigłówki Sudoku za pomocą symulowanego\n",
    "wyżarzania. Plansza 9 ×9 ma zostać wczytana z pliku tekstowego, w którym pola puste\n",
    "zaznaczone są znakiem x. Jako funkcję kosztu przyjmij sumę powtórzeń cyfr występu-\n",
    "jących w wierszach bloku 9 ×9, kolumnach bloku 9 ×9 oraz blokach 3 ×3. Zaproponuj\n",
    "metodę generacji stanu sąsiedniego. Przedstaw zależność liczby iteracji algorytmu od\n",
    "liczby pustych miejsc na planszy. Czy Twój program jest w stanie znaleźć poprawne\n",
    "rozwiązanie dla każdej z testowanych konfiguracji wejściowych?"
   ]
  },
  {
   "cell_type": "markdown",
   "metadata": {},
   "source": [
    "## Table of Contents"
   ]
  },
  {
   "cell_type": "markdown",
   "metadata": {},
   "source": [
    "1. [Read Sudokus](#1-read-sudokus)\n",
    "2. [Fill Sudoku](#2-fill-sudoku)\n",
    "3. [Annealing](#3-annealing)  \n",
    "    3.1 [Cost Function](#31-cost-function)  \n",
    "    3.2 [Annealing Algorithm](#32-annealing-algorithm)\n",
    "4. [Vizualization](#4-vizualization)\n",
    "5. [Results](#5-results)"
   ]
  },
  {
   "cell_type": "markdown",
   "metadata": {},
   "source": [
    "## 1. Read Sudokus\n",
    "\n",
    "sudokus were taken from [http://magictour.free.fr/top1465](http://magictour.free.fr/top1465)"
   ]
  },
  {
   "cell_type": "code",
   "execution_count": 76,
   "metadata": {},
   "outputs": [],
   "source": [
    "def read_sudokus(filename=\"sudoku.txt\"):\n",
    "    with open(filename, \"r\") as f:\n",
    "        sudokus = f.readlines()\n",
    "    sudokus = [list(sudoku.strip()) for sudoku in sudokus]\n",
    "    return np.array([np.reshape(row, (9, 9)) for row in sudokus])"
   ]
  },
  {
   "cell_type": "markdown",
   "metadata": {},
   "source": [
    "## 2. Fill Sudoku"
   ]
  },
  {
   "cell_type": "code",
   "execution_count": 77,
   "metadata": {},
   "outputs": [],
   "source": [
    "def fill_sudoku(sudoku):\n",
    "    positions = np.argwhere(sudoku == \"x\")\n",
    "    np.random.shuffle(positions)\n",
    "    numbers, counts = np.unique(sudoku, return_counts=True)\n",
    "    idx = 0\n",
    "    ranger = 0\n",
    "    for num in [str(i) for i in range(1, 10)]:\n",
    "        if num not in numbers:\n",
    "            ranger = 9\n",
    "        else:\n",
    "            ranger = 9 - counts[np.where(numbers == num)][0]\n",
    "        for _ in range(ranger):\n",
    "            sudoku[positions[idx][0], positions[idx][1]] = num\n",
    "            idx += 1\n",
    "    return sudoku"
   ]
  },
  {
   "cell_type": "markdown",
   "metadata": {},
   "source": [
    "## 3. Annealing"
   ]
  },
  {
   "cell_type": "markdown",
   "metadata": {},
   "source": [
    "### 3.1 Cost Function"
   ]
  },
  {
   "cell_type": "code",
   "execution_count": 78,
   "metadata": {},
   "outputs": [],
   "source": [
    "def count_inital_energy(sudoku):\n",
    "    energy = 0\n",
    "    for i in range(9):\n",
    "        _, cnt = np.unique(sudoku[i], return_counts=True)\n",
    "        energy += np.sum(cnt-1)\n",
    "        _, cnt = np.unique(sudoku[:, i], return_counts=True)\n",
    "        energy += np.sum(cnt-1)\n",
    "        _, cnt = np.unique(sudoku[i//3*3:i//3*3+3, i%3*3:i%3*3+3], return_counts=True)\n",
    "        energy += np.sum(cnt-1)\n",
    "    return energy"
   ]
  },
  {
   "cell_type": "code",
   "execution_count": 79,
   "metadata": {},
   "outputs": [],
   "source": [
    "def count_swap_energy(sudoku, x1, y1, x2, y2):\n",
    "    current = 0\n",
    "    _, cnt = np.unique(sudoku[x1], return_counts=True)\n",
    "    current += np.sum(cnt-1)\n",
    "    _, cnt = np.unique(sudoku[x2], return_counts=True)\n",
    "    current += np.sum(cnt-1)\n",
    "    _, cnt = np.unique(sudoku[:, y1], return_counts=True)\n",
    "    current += np.sum(cnt-1)\n",
    "    _, cnt = np.unique(sudoku[:, y2], return_counts=True)\n",
    "    current += np.sum(cnt-1)\n",
    "    _, cnt = np.unique(sudoku[x1//3*3:x1//3*3+3, y1//3*3:y1//3*3+3], return_counts=True)\n",
    "    current += np.sum(cnt-1)\n",
    "    _, cnt = np.unique(sudoku[x2//3*3:x2//3*3+3, y2//3*3:y2//3*3+3], return_counts=True)\n",
    "    current += np.sum(cnt-1)\n",
    "    return current"
   ]
  },
  {
   "cell_type": "markdown",
   "metadata": {},
   "source": [
    "### 3.2 Annealing Algorithm"
   ]
  },
  {
   "cell_type": "code",
   "execution_count": 94,
   "metadata": {},
   "outputs": [],
   "source": [
    "def annealing(sudoku, temp=1, step=0.999, acceptance=0.5, max_iter=100000):\n",
    "    sudoku = fill_sudoku(sudoku)\n",
    "    energy = count_inital_energy(sudoku)\n",
    "    data = {'iter': [], 'temp':[], 'energy': []}\n",
    "    notchanged = 0\n",
    "\n",
    "    for i in range(max_iter):\n",
    "        if energy == 0:   sudoku, data, True\n",
    "        if notchanged > 1000: temp = min(1, temp+0.3)\n",
    "        x1, y1, x2, y2 = np.random.randint(0, 9, 4)\n",
    "        prev = count_swap_energy(sudoku, x1, y1, x2, y2)\n",
    "        sudoku[x1, y1], sudoku[x2, y2] = sudoku[x2, y2], sudoku[x1, y1]\n",
    "        current = count_swap_energy(sudoku, x1, y1, x2, y2)\n",
    "        if current < prev or (current - prev) * np.random.rand() < acceptance * temp:\n",
    "            energy += current - prev\n",
    "            notchanged = 0\n",
    "        else:\n",
    "            sudoku[x1, y1], sudoku[x2, y2] = sudoku[x2, y2], sudoku[x1, y1]\n",
    "            notchanged += 1\n",
    "        temp *= step\n",
    "\n",
    "        data['iter'].append(i)\n",
    "        data['temp'].append(temp)\n",
    "        data['energy'].append(energy)\n",
    "\n",
    "    return sudoku, data, False"
   ]
  },
  {
   "cell_type": "markdown",
   "metadata": {},
   "source": [
    "## 4. Vizualization"
   ]
  },
  {
   "cell_type": "code",
   "execution_count": 81,
   "metadata": {},
   "outputs": [],
   "source": [
    "def plot(data):\n",
    "    fig, ax = plt.subplots(1, 2, figsize=(10, 5))\n",
    "    ax[0].plot(data['iter'], data['temp'])\n",
    "    ax[0].set_title('Temperature')\n",
    "    ax[1].plot(data['iter'], data['energy'])\n",
    "    ax[1].set_title('Energy')\n",
    "    plt.show()"
   ]
  },
  {
   "cell_type": "markdown",
   "metadata": {},
   "source": [
    "## 5. Results"
   ]
  },
  {
   "cell_type": "code",
   "execution_count": 95,
   "metadata": {},
   "outputs": [
    {
     "ename": "KeyboardInterrupt",
     "evalue": "",
     "output_type": "error",
     "traceback": [
      "\u001b[1;31m---------------------------------------------------------------------------\u001b[0m",
      "\u001b[1;31mKeyboardInterrupt\u001b[0m                         Traceback (most recent call last)",
      "Cell \u001b[1;32mIn[95], line 16\u001b[0m\n\u001b[0;32m     14\u001b[0m ixds \u001b[38;5;241m=\u001b[39m \u001b[38;5;241m0\u001b[39m\n\u001b[0;32m     15\u001b[0m \u001b[38;5;28;01mfor\u001b[39;00m s \u001b[38;5;129;01min\u001b[39;00m sudokus:\n\u001b[1;32m---> 16\u001b[0m     _, data, result \u001b[38;5;241m=\u001b[39m \u001b[43mannealing\u001b[49m\u001b[43m(\u001b[49m\u001b[43ms\u001b[49m\u001b[43m)\u001b[49m\n\u001b[0;32m     17\u001b[0m     \u001b[38;5;28;01mif\u001b[39;00m result \u001b[38;5;129;01mand\u001b[39;00m ixds \u001b[38;5;241m<\u001b[39m \u001b[38;5;241m5\u001b[39m:\n\u001b[0;32m     18\u001b[0m         ixds \u001b[38;5;241m+\u001b[39m\u001b[38;5;241m=\u001b[39m \u001b[38;5;241m1\u001b[39m\n",
      "Cell \u001b[1;32mIn[94], line 13\u001b[0m, in \u001b[0;36mannealing\u001b[1;34m(sudoku, temp, step, acceptance, max_iter)\u001b[0m\n\u001b[0;32m     11\u001b[0m prev \u001b[38;5;241m=\u001b[39m count_swap_energy(sudoku, x1, y1, x2, y2)\n\u001b[0;32m     12\u001b[0m sudoku[x1, y1], sudoku[x2, y2] \u001b[38;5;241m=\u001b[39m sudoku[x2, y2], sudoku[x1, y1]\n\u001b[1;32m---> 13\u001b[0m current \u001b[38;5;241m=\u001b[39m \u001b[43mcount_swap_energy\u001b[49m\u001b[43m(\u001b[49m\u001b[43msudoku\u001b[49m\u001b[43m,\u001b[49m\u001b[43m \u001b[49m\u001b[43mx1\u001b[49m\u001b[43m,\u001b[49m\u001b[43m \u001b[49m\u001b[43my1\u001b[49m\u001b[43m,\u001b[49m\u001b[43m \u001b[49m\u001b[43mx2\u001b[49m\u001b[43m,\u001b[49m\u001b[43m \u001b[49m\u001b[43my2\u001b[49m\u001b[43m)\u001b[49m\n\u001b[0;32m     14\u001b[0m \u001b[38;5;28;01mif\u001b[39;00m current \u001b[38;5;241m<\u001b[39m prev \u001b[38;5;129;01mor\u001b[39;00m (current \u001b[38;5;241m-\u001b[39m prev) \u001b[38;5;241m*\u001b[39m np\u001b[38;5;241m.\u001b[39mrandom\u001b[38;5;241m.\u001b[39mrand() \u001b[38;5;241m<\u001b[39m acceptance \u001b[38;5;241m*\u001b[39m temp:\n\u001b[0;32m     15\u001b[0m     energy \u001b[38;5;241m+\u001b[39m\u001b[38;5;241m=\u001b[39m current \u001b[38;5;241m-\u001b[39m prev\n",
      "Cell \u001b[1;32mIn[79], line 9\u001b[0m, in \u001b[0;36mcount_swap_energy\u001b[1;34m(sudoku, x1, y1, x2, y2)\u001b[0m\n\u001b[0;32m      7\u001b[0m _, cnt \u001b[38;5;241m=\u001b[39m np\u001b[38;5;241m.\u001b[39munique(sudoku[:, y1], return_counts\u001b[38;5;241m=\u001b[39m\u001b[38;5;28;01mTrue\u001b[39;00m)\n\u001b[0;32m      8\u001b[0m current \u001b[38;5;241m+\u001b[39m\u001b[38;5;241m=\u001b[39m np\u001b[38;5;241m.\u001b[39msum(cnt\u001b[38;5;241m-\u001b[39m\u001b[38;5;241m1\u001b[39m)\n\u001b[1;32m----> 9\u001b[0m _, cnt \u001b[38;5;241m=\u001b[39m \u001b[43mnp\u001b[49m\u001b[38;5;241;43m.\u001b[39;49m\u001b[43munique\u001b[49m\u001b[43m(\u001b[49m\u001b[43msudoku\u001b[49m\u001b[43m[\u001b[49m\u001b[43m:\u001b[49m\u001b[43m,\u001b[49m\u001b[43m \u001b[49m\u001b[43my2\u001b[49m\u001b[43m]\u001b[49m\u001b[43m,\u001b[49m\u001b[43m \u001b[49m\u001b[43mreturn_counts\u001b[49m\u001b[38;5;241;43m=\u001b[39;49m\u001b[38;5;28;43;01mTrue\u001b[39;49;00m\u001b[43m)\u001b[49m\n\u001b[0;32m     10\u001b[0m current \u001b[38;5;241m+\u001b[39m\u001b[38;5;241m=\u001b[39m np\u001b[38;5;241m.\u001b[39msum(cnt\u001b[38;5;241m-\u001b[39m\u001b[38;5;241m1\u001b[39m)\n\u001b[0;32m     11\u001b[0m _, cnt \u001b[38;5;241m=\u001b[39m np\u001b[38;5;241m.\u001b[39munique(sudoku[x1\u001b[38;5;241m/\u001b[39m\u001b[38;5;241m/\u001b[39m\u001b[38;5;241m3\u001b[39m\u001b[38;5;241m*\u001b[39m\u001b[38;5;241m3\u001b[39m:x1\u001b[38;5;241m/\u001b[39m\u001b[38;5;241m/\u001b[39m\u001b[38;5;241m3\u001b[39m\u001b[38;5;241m*\u001b[39m\u001b[38;5;241m3\u001b[39m\u001b[38;5;241m+\u001b[39m\u001b[38;5;241m3\u001b[39m, y1\u001b[38;5;241m/\u001b[39m\u001b[38;5;241m/\u001b[39m\u001b[38;5;241m3\u001b[39m\u001b[38;5;241m*\u001b[39m\u001b[38;5;241m3\u001b[39m:y1\u001b[38;5;241m/\u001b[39m\u001b[38;5;241m/\u001b[39m\u001b[38;5;241m3\u001b[39m\u001b[38;5;241m*\u001b[39m\u001b[38;5;241m3\u001b[39m\u001b[38;5;241m+\u001b[39m\u001b[38;5;241m3\u001b[39m], return_counts\u001b[38;5;241m=\u001b[39m\u001b[38;5;28;01mTrue\u001b[39;00m)\n",
      "File \u001b[1;32mc:\\Users\\acer\\anaconda3\\lib\\site-packages\\numpy\\lib\\arraysetops.py:274\u001b[0m, in \u001b[0;36munique\u001b[1;34m(ar, return_index, return_inverse, return_counts, axis, equal_nan)\u001b[0m\n\u001b[0;32m    272\u001b[0m ar \u001b[38;5;241m=\u001b[39m np\u001b[38;5;241m.\u001b[39masanyarray(ar)\n\u001b[0;32m    273\u001b[0m \u001b[38;5;28;01mif\u001b[39;00m axis \u001b[38;5;129;01mis\u001b[39;00m \u001b[38;5;28;01mNone\u001b[39;00m:\n\u001b[1;32m--> 274\u001b[0m     ret \u001b[38;5;241m=\u001b[39m \u001b[43m_unique1d\u001b[49m\u001b[43m(\u001b[49m\u001b[43mar\u001b[49m\u001b[43m,\u001b[49m\u001b[43m \u001b[49m\u001b[43mreturn_index\u001b[49m\u001b[43m,\u001b[49m\u001b[43m \u001b[49m\u001b[43mreturn_inverse\u001b[49m\u001b[43m,\u001b[49m\u001b[43m \u001b[49m\u001b[43mreturn_counts\u001b[49m\u001b[43m,\u001b[49m\u001b[43m \u001b[49m\n\u001b[0;32m    275\u001b[0m \u001b[43m                    \u001b[49m\u001b[43mequal_nan\u001b[49m\u001b[38;5;241;43m=\u001b[39;49m\u001b[43mequal_nan\u001b[49m\u001b[43m)\u001b[49m\n\u001b[0;32m    276\u001b[0m     \u001b[38;5;28;01mreturn\u001b[39;00m _unpack_tuple(ret)\n\u001b[0;32m    278\u001b[0m \u001b[38;5;66;03m# axis was specified and not None\u001b[39;00m\n",
      "File \u001b[1;32mc:\\Users\\acer\\anaconda3\\lib\\site-packages\\numpy\\lib\\arraysetops.py:336\u001b[0m, in \u001b[0;36m_unique1d\u001b[1;34m(ar, return_index, return_inverse, return_counts, equal_nan)\u001b[0m\n\u001b[0;32m    334\u001b[0m     aux \u001b[38;5;241m=\u001b[39m ar[perm]\n\u001b[0;32m    335\u001b[0m \u001b[38;5;28;01melse\u001b[39;00m:\n\u001b[1;32m--> 336\u001b[0m     \u001b[43mar\u001b[49m\u001b[38;5;241;43m.\u001b[39;49m\u001b[43msort\u001b[49m\u001b[43m(\u001b[49m\u001b[43m)\u001b[49m\n\u001b[0;32m    337\u001b[0m     aux \u001b[38;5;241m=\u001b[39m ar\n\u001b[0;32m    338\u001b[0m mask \u001b[38;5;241m=\u001b[39m np\u001b[38;5;241m.\u001b[39mempty(aux\u001b[38;5;241m.\u001b[39mshape, dtype\u001b[38;5;241m=\u001b[39mnp\u001b[38;5;241m.\u001b[39mbool_)\n",
      "\u001b[1;31mKeyboardInterrupt\u001b[0m: "
     ]
    }
   ],
   "source": [
    "sudokus = read_sudokus()\n",
    "#s1 = sudokus[0]\n",
    "s1 = np.array([['x', 'x', 'x', 'x', 'x', 'x', 'x', 'x', 'x'],\n",
    "               ['x', 'x', 'x', 'x', 'x', 'x', 'x', 'x', 'x'],\n",
    "                ['x', 'x', 'x', 'x', 'x', 'x', 'x', 'x', 'x'],\n",
    "                ['x', 'x', 'x', 'x', 'x', 'x', 'x', 'x', 'x'],\n",
    "                ['x', 'x', 'x', 'x', 'x', 'x', 'x', 'x', 'x'],\n",
    "                ['x', 'x', 'x', 'x', 'x', 'x', 'x', 'x', 'x'],\n",
    "                ['x', 'x', 'x', 'x', 'x', 'x', 'x', 'x', 'x'],\n",
    "                ['x', 'x', 'x', 'x', 'x', 'x', 'x', 'x', 'x'],\n",
    "                ['x', 'x', 'x', 'x', 'x', 'x', 'x', 'x', 'x']])\n",
    "#sudoku, data, _ = annealing(s1)\n",
    "#plot(data)\n",
    "ixds = 0\n",
    "for s in sudokus:\n",
    "    _, data, result = annealing(s)\n",
    "    if result and ixds < 5:\n",
    "        ixds += 1\n",
    "        plot(data)\n",
    "print(ixds)"
   ]
  },
  {
   "cell_type": "markdown",
   "metadata": {},
   "source": [
    "---"
   ]
  }
 ],
 "metadata": {
  "kernelspec": {
   "display_name": "base",
   "language": "python",
   "name": "python3"
  },
  "language_info": {
   "codemirror_mode": {
    "name": "ipython",
    "version": 3
   },
   "file_extension": ".py",
   "mimetype": "text/x-python",
   "name": "python",
   "nbconvert_exporter": "python",
   "pygments_lexer": "ipython3",
   "version": "3.10.9"
  }
 },
 "nbformat": 4,
 "nbformat_minor": 2
}
