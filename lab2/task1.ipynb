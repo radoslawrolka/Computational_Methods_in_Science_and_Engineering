{
 "cells": [
  {
   "cell_type": "code",
   "execution_count": 1,
   "metadata": {},
   "outputs": [],
   "source": [
    "# timing functions\n",
    "import time\n",
    "# library functions\n",
    "import numpy as np\n",
    "# deepcopy\n",
    "import copy\n",
    "# data processing\n",
    "import pandas as pd\n",
    "# plotting\n",
    "import matplotlib.pyplot as plt\n",
    "\n",
    "# format the pandas dataframe\n",
    "pd.options.display.float_format = '{:.3e}'.format"
   ]
  },
  {
   "cell_type": "markdown",
   "metadata": {},
   "source": [
    "# Gauss-Jordan Elimination\n",
    "\n",
    "Method used in linear algebra to solve systems of linear equations and to find the inverse of a square matrix. It's an extension of Gaussian elimination, which is a process of transforming a matrix into row-echelon form through a series of row operations."
   ]
  },
  {
   "cell_type": "markdown",
   "metadata": {},
   "source": [
    "## Table of Contents"
   ]
  },
  {
   "cell_type": "markdown",
   "metadata": {},
   "source": [
    "1. [Operations count](#1-operations-count)\n",
    "2. [Implementation](#2-implementation)\n",
    "   - [Standard Gauss-Jordan Elimination](#21-standard-gauss-jordan-elimination)\n",
    "   - [Gauss-Jordan Elimination with Partial Pivoting](#22-gauss-jordan-elimination-with-partial-pivoting)\n",
    "   - [Gauss-Jordan Elimination with Full Pivoting](#23-gauss-jordan-elimination-with-full-pivoting)\n",
    "3. [Utilities](#3-utilities)\n",
    "   - [Generate random matrix and vector](#31-generate-random-matrix-and-vector)\n",
    "   - [Plotting](#32-plotting)\n",
    "4. [Comparison](#4-comparison)\n",
    "   - [Error comparison for different methods](#41-error-comparison-for-different-methods)\n",
    "   - [Time comparison with library function](#42-time-comparison-with-library-function)"
   ]
  },
  {
   "cell_type": "markdown",
   "metadata": {},
   "source": [
    "## 1. Operations count"
   ]
  },
  {
   "cell_type": "markdown",
   "metadata": {},
   "source": [
    "For an n x n matrix, the Gauss-Jordan procedure requires:\n",
    "\n",
    "$$ \\frac{n^3}{2} + \\frac{n^2}{2} \\text{ multiplications/divisions} $$ \n",
    "\n",
    "$$ \\frac{n^3}{2} - \\frac{n^2}{2} \\text{ additions/subtractions} $$\n",
    "\n"
   ]
  },
  {
   "cell_type": "markdown",
   "metadata": {},
   "source": [
    "## 2. Implementation"
   ]
  },
  {
   "cell_type": "markdown",
   "metadata": {},
   "source": [
    "### 2.1 Standard Gauss-Jordan Elimination"
   ]
  },
  {
   "cell_type": "code",
   "execution_count": 2,
   "metadata": {},
   "outputs": [],
   "source": [
    "def Gauss_Jordan_std(A, b):\n",
    "    n = len(A)\n",
    "    for i in range(n):                       # Forward Elimination\n",
    "        leading = A[i][i]\n",
    "        if leading != 0:                     # First non-zero element in the row\n",
    "            A[i] /= leading                  # Divide the row by the leading element\n",
    "            b[i] /= leading                  # Divide the b vector by the leading element\n",
    "\n",
    "        for j in range(i+1, n):              # Subtract the row from the next rows\n",
    "            divider = A[j][i]                # The leading element of the row to be subtracted\n",
    "            A[j] -= divider * A[i]           # Subtract the row\n",
    "            b[j] -= divider * b[i]           # Subtract the b vector\n",
    "    \n",
    "    for i in range(n-1, -1, -1):             # Backward Elimination\n",
    "        b[:i] -= A[:i, i] * b[i]             # Subtract the columns from the rows above\n",
    "        A[:i, i] = 0                         # Set the column to 0                \n",
    "    \n",
    "    return b"
   ]
  },
  {
   "cell_type": "markdown",
   "metadata": {},
   "source": [
    "### 2.2 Gauss-Jordan Elimination with Partial Pivoting"
   ]
  },
  {
   "cell_type": "code",
   "execution_count": 3,
   "metadata": {},
   "outputs": [],
   "source": [
    "def Gauss_Jordan_partial_pivoting(A, b):\n",
    "    n = len(A)\n",
    "    for i in range(n):                       # Forward Elimination\n",
    "        max_index = np.argmax(np.abs(A[i:, i]))# Find the maximum absvalue in the submatrix\n",
    "        max_index += i\n",
    "        if max_index != i:                   # Swap the rows\n",
    "            A[[i, max_index]] = A[[max_index, i]]\n",
    "            b[[i, max_index]] = b[[max_index, i]]\n",
    "\n",
    "        leading = A[i][i]\n",
    "        if leading != 0:                     # First non-zero element in the row\n",
    "            A[i] /= leading                  # Divide the row by the leading element\n",
    "            b[i] /= leading                  # Divide the b vector by the leading element\n",
    "\n",
    "        for j in range(i+1, n):              # Subtract the row from the next rows\n",
    "            divider = A[j][i]                # The leading element of the row to be subtracted\n",
    "            A[j][i] = 0                      # set bottom part as zero      \n",
    "            A[j][i+1:] -= divider * A[i][i+1:] # Subtract the row\n",
    "            b[j] -= divider * b[i]           # Subtract the b vector\n",
    "    \n",
    "    for i in range(n-1, -1, -1):             # Backward Elimination\n",
    "        b[:i] -= A[:i, i] * b[i]             # Subtract the columns from the rows above\n",
    "        A[:i, i] = 0                         # Set the column to 0\n",
    "\n",
    "    return b"
   ]
  },
  {
   "cell_type": "markdown",
   "metadata": {},
   "source": [
    "### 2.3 Gauss-Jordan Elimination with Full Pivoting"
   ]
  },
  {
   "cell_type": "code",
   "execution_count": 4,
   "metadata": {},
   "outputs": [],
   "source": [
    "def Gauss_Jordan_full_pivoting(A, b):\n",
    "    n = len(A)\n",
    "    swapped = np.arange(n)                   # Keep track of the swapped columns\n",
    "    for i in range(n):                       # Forward Elimination\n",
    "        submatrix = A[i:, i:]                # Full Pivoting      \n",
    "        max_index = np.argmax(np.abs(submatrix))     # Find the maximum absvalue in the submatrix\n",
    "        max_row_index, max_col_index = np.unravel_index(max_index, submatrix.shape)\n",
    "        max_row_index += i\n",
    "        max_col_index += i\n",
    "        if max_row_index != i:               # Swap the rows\n",
    "            A[[i, max_row_index]] = A[[max_row_index, i]]\n",
    "            b[[i, max_row_index]] = b[[max_row_index, i]]\n",
    "        if max_col_index != i:               # Swap the columns\n",
    "            A[:, [i, max_col_index]] = A[:, [max_col_index, i]]\n",
    "            swapped[[i, max_col_index]] = swapped[[max_col_index, i]]\n",
    "    \n",
    "        leading = A[i][i]\n",
    "        if leading != 0:                     # First non-zero element in the row\n",
    "            A[i] /= leading                  # Divide the row by the leading element\n",
    "            b[i] /= leading                  # Divide the b vector by the leading element\n",
    "\n",
    "        for j in range(i+1, n):              # Subtract the row from the next rows\n",
    "            divider = A[j][i]                # The leading element of the row to be subtracted\n",
    "            A[j, i] = 0                      # set bottom part as zero      \n",
    "            A[j, i+1:] -= divider * A[i, i+1:] # Subtract the row\n",
    "            b[j] -= divider * b[i]           # Subtract the b vector\n",
    "\n",
    "    for i in range(n-1, -1, -1):             # Backward Elimination\n",
    "        b[:i] -= A[:i, i] * b[i]             # Subtract the columns from the rows above\n",
    "        A[:i, i] = 0                         # Set the column to 0\n",
    "\n",
    "    return b[swapped]"
   ]
  },
  {
   "cell_type": "markdown",
   "metadata": {},
   "source": [
    "## 3. Utilities"
   ]
  },
  {
   "cell_type": "markdown",
   "metadata": {},
   "source": [
    "### 3.1 Generate random matrix and vector"
   ]
  },
  {
   "cell_type": "code",
   "execution_count": 5,
   "metadata": {},
   "outputs": [],
   "source": [
    "def random_matrix(n):\n",
    "    return np.random.uniform(-10e5, 10e5, size=(n, n))\n",
    "\n",
    "def random_vector(n):\n",
    "    return np.random.uniform(-10e5, 10e5, size=(n))"
   ]
  },
  {
   "cell_type": "markdown",
   "metadata": {},
   "source": [
    "### 3.2 Plotting"
   ]
  },
  {
   "cell_type": "code",
   "execution_count": 6,
   "metadata": {},
   "outputs": [],
   "source": [
    "def plot(data, ylabel, omit=list()):\n",
    "    def setup_axis(axis, title):\n",
    "        axis.plot(data[suptitle][\"n\"], data[suptitle][title])\n",
    "        axis.set_title(title)\n",
    "        axis.set_xlabel(\"n\")\n",
    "        axis.set_ylabel(ylabel)\n",
    "        axis.grid()\n",
    "        max_value = data.loc[:, [col for col in data.columns[1:] if col[1] not in omit]].max().max()\n",
    "        axis.set_ylim(0, max_value)\n",
    "\n",
    "    fig, axis = plt.subplots(1, 4, figsize=(20, 5))\n",
    "    suptitle = data.columns[0][0]\n",
    "    fig.suptitle(suptitle)\n",
    "    columns = [col for _, col in data.columns[1:]]\n",
    "    for i, col in enumerate(columns):\n",
    "        setup_axis(axis[i], col)\n",
    "    \n",
    "    plt.show()"
   ]
  },
  {
   "cell_type": "markdown",
   "metadata": {},
   "source": [
    "## 4. Comparison"
   ]
  },
  {
   "cell_type": "markdown",
   "metadata": {},
   "source": [
    "Comparisions will be made for:\n",
    "- Error comparison\n",
    "- Time comparison\n",
    "\n",
    "Method used for comparison:\n",
    "| Method                                         | Signature                            |\n",
    "|------------------------------------------------|--------------------------------------|\n",
    "| Standard Gauss-Jordan Elimination              | ```Gauss_Jordan_std()```             |\n",
    "| Gauss-Jordan Elimination with Partial Pivoting | ```Gauss_Jordan_partial_pivoting()```|\n",
    "| Gauss-Jordan Elimination with Full Pivoting    | ```Gauss_Jordan_full_pivoting()```   |\n",
    "| Numpy library function                         | ```numpy.linalg.solve()```           |"
   ]
  },
  {
   "cell_type": "markdown",
   "metadata": {},
   "source": [
    "### 4.1 Error comparison for different methods"
   ]
  },
  {
   "cell_type": "code",
   "execution_count": 7,
   "metadata": {},
   "outputs": [],
   "source": [
    "def check_solution(A, b, func):\n",
    "    n = len(A)\n",
    "    x = func(copy.deepcopy(A), copy.deepcopy(b))\n",
    "    error = 0\n",
    "    for i in range(n):\n",
    "        sum = np.dot(A[i], x)\n",
    "        error += abs(sum - b[i])     # L2 norm\n",
    "    return error\n",
    "\n",
    "def compare_error():\n",
    "    data = {\"n\": [], \"Standard\": [], \"Partial Pivoting\": [], \"Full Pivoting\": [], \"numpy.linalg.solve\": []}\n",
    "    for n in [i*100 for i in range(1, 11)]:\n",
    "        A = random_matrix(n)\n",
    "        b = random_vector(n)\n",
    "        data[\"n\"].append(n)\n",
    "        data[\"Standard\"].append(check_solution(A, b, Gauss_Jordan_std))\n",
    "        data[\"Partial Pivoting\"].append(check_solution(A, b, Gauss_Jordan_partial_pivoting))\n",
    "        data[\"Full Pivoting\"].append(check_solution(A, b, Gauss_Jordan_full_pivoting))\n",
    "        data[\"numpy.linalg.solve\"].append(check_solution(A, b, np.linalg.solve)) \n",
    "    df = pd.DataFrame(data)\n",
    "    df.columns = pd.MultiIndex.from_product([['Error of different methods'], df.columns])\n",
    "    return df"
   ]
  },
  {
   "cell_type": "code",
   "execution_count": 8,
   "metadata": {},
   "outputs": [
    {
     "data": {
      "text/html": [
       "<div>\n",
       "<style scoped>\n",
       "    .dataframe tbody tr th:only-of-type {\n",
       "        vertical-align: middle;\n",
       "    }\n",
       "\n",
       "    .dataframe tbody tr th {\n",
       "        vertical-align: top;\n",
       "    }\n",
       "\n",
       "    .dataframe thead tr th {\n",
       "        text-align: left;\n",
       "    }\n",
       "</style>\n",
       "<table border=\"1\" class=\"dataframe\">\n",
       "  <thead>\n",
       "    <tr>\n",
       "      <th></th>\n",
       "      <th colspan=\"5\" halign=\"left\">Error of different methods</th>\n",
       "    </tr>\n",
       "    <tr>\n",
       "      <th></th>\n",
       "      <th>n</th>\n",
       "      <th>Standard</th>\n",
       "      <th>Partial Pivoting</th>\n",
       "      <th>Full Pivoting</th>\n",
       "      <th>numpy.linalg.solve</th>\n",
       "    </tr>\n",
       "  </thead>\n",
       "  <tbody>\n",
       "    <tr>\n",
       "      <th>0</th>\n",
       "      <td>100</td>\n",
       "      <td>1.939e-04</td>\n",
       "      <td>3.483e-07</td>\n",
       "      <td>2.166e+08</td>\n",
       "      <td>2.277e-07</td>\n",
       "    </tr>\n",
       "    <tr>\n",
       "      <th>1</th>\n",
       "      <td>200</td>\n",
       "      <td>2.656e-04</td>\n",
       "      <td>2.692e-06</td>\n",
       "      <td>1.170e+09</td>\n",
       "      <td>2.908e-06</td>\n",
       "    </tr>\n",
       "    <tr>\n",
       "      <th>2</th>\n",
       "      <td>300</td>\n",
       "      <td>4.193e-03</td>\n",
       "      <td>2.193e-05</td>\n",
       "      <td>5.175e+09</td>\n",
       "      <td>2.101e-05</td>\n",
       "    </tr>\n",
       "    <tr>\n",
       "      <th>3</th>\n",
       "      <td>400</td>\n",
       "      <td>6.031e-03</td>\n",
       "      <td>2.811e-05</td>\n",
       "      <td>5.372e+09</td>\n",
       "      <td>3.387e-05</td>\n",
       "    </tr>\n",
       "    <tr>\n",
       "      <th>4</th>\n",
       "      <td>500</td>\n",
       "      <td>8.543e-03</td>\n",
       "      <td>2.979e-05</td>\n",
       "      <td>4.066e+09</td>\n",
       "      <td>2.643e-05</td>\n",
       "    </tr>\n",
       "    <tr>\n",
       "      <th>5</th>\n",
       "      <td>600</td>\n",
       "      <td>5.288e-02</td>\n",
       "      <td>1.859e-04</td>\n",
       "      <td>1.780e+10</td>\n",
       "      <td>1.627e-04</td>\n",
       "    </tr>\n",
       "    <tr>\n",
       "      <th>6</th>\n",
       "      <td>700</td>\n",
       "      <td>2.137e-01</td>\n",
       "      <td>1.330e-04</td>\n",
       "      <td>1.419e+10</td>\n",
       "      <td>1.388e-04</td>\n",
       "    </tr>\n",
       "    <tr>\n",
       "      <th>7</th>\n",
       "      <td>800</td>\n",
       "      <td>4.720e-02</td>\n",
       "      <td>1.529e-04</td>\n",
       "      <td>1.104e+10</td>\n",
       "      <td>1.544e-04</td>\n",
       "    </tr>\n",
       "    <tr>\n",
       "      <th>8</th>\n",
       "      <td>900</td>\n",
       "      <td>4.481e-02</td>\n",
       "      <td>1.568e-04</td>\n",
       "      <td>1.050e+10</td>\n",
       "      <td>1.640e-04</td>\n",
       "    </tr>\n",
       "    <tr>\n",
       "      <th>9</th>\n",
       "      <td>1000</td>\n",
       "      <td>4.175e-01</td>\n",
       "      <td>3.363e-04</td>\n",
       "      <td>2.070e+10</td>\n",
       "      <td>3.214e-04</td>\n",
       "    </tr>\n",
       "  </tbody>\n",
       "</table>\n",
       "</div>"
      ],
      "text/plain": [
       "  Error of different methods                                           \\\n",
       "                           n  Standard Partial Pivoting Full Pivoting   \n",
       "0                        100 1.939e-04        3.483e-07     2.166e+08   \n",
       "1                        200 2.656e-04        2.692e-06     1.170e+09   \n",
       "2                        300 4.193e-03        2.193e-05     5.175e+09   \n",
       "3                        400 6.031e-03        2.811e-05     5.372e+09   \n",
       "4                        500 8.543e-03        2.979e-05     4.066e+09   \n",
       "5                        600 5.288e-02        1.859e-04     1.780e+10   \n",
       "6                        700 2.137e-01        1.330e-04     1.419e+10   \n",
       "7                        800 4.720e-02        1.529e-04     1.104e+10   \n",
       "8                        900 4.481e-02        1.568e-04     1.050e+10   \n",
       "9                       1000 4.175e-01        3.363e-04     2.070e+10   \n",
       "\n",
       "                      \n",
       "  numpy.linalg.solve  \n",
       "0          2.277e-07  \n",
       "1          2.908e-06  \n",
       "2          2.101e-05  \n",
       "3          3.387e-05  \n",
       "4          2.643e-05  \n",
       "5          1.627e-04  \n",
       "6          1.388e-04  \n",
       "7          1.544e-04  \n",
       "8          1.640e-04  \n",
       "9          3.214e-04  "
      ]
     },
     "metadata": {},
     "output_type": "display_data"
    }
   ],
   "source": [
    "result = compare_error()\n",
    "display(result)"
   ]
  },
  {
   "cell_type": "code",
   "execution_count": 9,
   "metadata": {},
   "outputs": [
    {
     "data": {
      "image/png": "[encoded data removed]",
      "text/plain": [
       "<Figure size 2000x500 with 4 Axes>"
      ]
     },
     "metadata": {},
     "output_type": "display_data"
    }
   ],
   "source": [
    "plot(result, \"Error\")"
   ]
  },
  {
   "cell_type": "markdown",
   "metadata": {},
   "source": [
    "### 4.2 Comparison with library function"
   ]
  },
  {
   "cell_type": "markdown",
   "metadata": {},
   "source": [
    "For more reliable results and to avoid any bias, the time comparison will be made for different sizes of matrices and the average time of 3 runs will be taken."
   ]
  },
  {
   "cell_type": "code",
   "execution_count": 10,
   "metadata": {},
   "outputs": [],
   "source": [
    "def count_time(func, A, b):\n",
    "    A_copy = copy.deepcopy(A)\n",
    "    b_copy = copy.deepcopy(b)\n",
    "    start = time.time()\n",
    "    func(A_copy, b_copy)\n",
    "    return time.time() - start\n",
    "\n",
    "def compare_time():\n",
    "    data = {\"n\": [], \"Standard\": [], \"Partial Pivoting\": [], \"Full Pivoting\": [], \"numpy.linalg.solve\": []}\n",
    "    for n in [100*i for i in range(1,11)]:\n",
    "        time_std  = 0\n",
    "        time_ppiv = 0\n",
    "        time_nmpy = 0\n",
    "        time_fpiv = 0\n",
    "        for _ in range(3):\n",
    "            A = random_matrix(n)\n",
    "            b = random_vector(n)\n",
    "\n",
    "            time_std  += count_time(Gauss_Jordan_std, A, b)\n",
    "            time_ppiv += count_time(Gauss_Jordan_partial_pivoting, A, b)\n",
    "            time_nmpy += count_time(np.linalg.solve, A, b)\n",
    "            time_fpiv += count_time(Gauss_Jordan_full_pivoting, A, b)\n",
    "\n",
    "        data[\"n\"].append(n)\n",
    "        data[\"Standard\"].append(time_std / 3)\n",
    "        data[\"Partial Pivoting\"].append(time_ppiv / 3)\n",
    "        data[\"Full Pivoting\"].append(time_fpiv / 3)\n",
    "        data[\"numpy.linalg.solve\"].append(time_nmpy / 3)\n",
    "\n",
    "    df = pd.DataFrame(data)\n",
    "    df.columns = pd.MultiIndex.from_product([['Time of different methods'], df.columns])\n",
    "    return df"
   ]
  },
  {
   "cell_type": "code",
   "execution_count": 11,
   "metadata": {},
   "outputs": [
    {
     "data": {
      "text/html": [
       "<div>\n",
       "<style scoped>\n",
       "    .dataframe tbody tr th:only-of-type {\n",
       "        vertical-align: middle;\n",
       "    }\n",
       "\n",
       "    .dataframe tbody tr th {\n",
       "        vertical-align: top;\n",
       "    }\n",
       "\n",
       "    .dataframe thead tr th {\n",
       "        text-align: left;\n",
       "    }\n",
       "</style>\n",
       "<table border=\"1\" class=\"dataframe\">\n",
       "  <thead>\n",
       "    <tr>\n",
       "      <th></th>\n",
       "      <th colspan=\"5\" halign=\"left\">Time of different methods</th>\n",
       "    </tr>\n",
       "    <tr>\n",
       "      <th></th>\n",
       "      <th>n</th>\n",
       "      <th>Standard</th>\n",
       "      <th>Partial Pivoting</th>\n",
       "      <th>Full Pivoting</th>\n",
       "      <th>numpy.linalg.solve</th>\n",
       "    </tr>\n",
       "  </thead>\n",
       "  <tbody>\n",
       "    <tr>\n",
       "      <th>0</th>\n",
       "      <td>100</td>\n",
       "      <td>9.144e-03</td>\n",
       "      <td>1.201e-02</td>\n",
       "      <td>1.096e-02</td>\n",
       "      <td>8.647e-05</td>\n",
       "    </tr>\n",
       "    <tr>\n",
       "      <th>1</th>\n",
       "      <td>200</td>\n",
       "      <td>3.889e-02</td>\n",
       "      <td>4.623e-02</td>\n",
       "      <td>4.559e-02</td>\n",
       "      <td>2.414e-04</td>\n",
       "    </tr>\n",
       "    <tr>\n",
       "      <th>2</th>\n",
       "      <td>300</td>\n",
       "      <td>8.886e-02</td>\n",
       "      <td>1.034e-01</td>\n",
       "      <td>1.056e-01</td>\n",
       "      <td>4.424e-04</td>\n",
       "    </tr>\n",
       "    <tr>\n",
       "      <th>3</th>\n",
       "      <td>400</td>\n",
       "      <td>1.552e-01</td>\n",
       "      <td>1.847e-01</td>\n",
       "      <td>1.943e-01</td>\n",
       "      <td>6.487e-04</td>\n",
       "    </tr>\n",
       "    <tr>\n",
       "      <th>4</th>\n",
       "      <td>500</td>\n",
       "      <td>2.439e-01</td>\n",
       "      <td>2.918e-01</td>\n",
       "      <td>3.066e-01</td>\n",
       "      <td>9.323e-04</td>\n",
       "    </tr>\n",
       "    <tr>\n",
       "      <th>5</th>\n",
       "      <td>600</td>\n",
       "      <td>3.847e-01</td>\n",
       "      <td>4.399e-01</td>\n",
       "      <td>4.583e-01</td>\n",
       "      <td>1.450e-03</td>\n",
       "    </tr>\n",
       "    <tr>\n",
       "      <th>6</th>\n",
       "      <td>700</td>\n",
       "      <td>5.351e-01</td>\n",
       "      <td>6.107e-01</td>\n",
       "      <td>6.380e-01</td>\n",
       "      <td>1.921e-03</td>\n",
       "    </tr>\n",
       "    <tr>\n",
       "      <th>7</th>\n",
       "      <td>800</td>\n",
       "      <td>7.309e-01</td>\n",
       "      <td>8.135e-01</td>\n",
       "      <td>8.705e-01</td>\n",
       "      <td>2.950e-03</td>\n",
       "    </tr>\n",
       "    <tr>\n",
       "      <th>8</th>\n",
       "      <td>900</td>\n",
       "      <td>9.355e-01</td>\n",
       "      <td>1.056e+00</td>\n",
       "      <td>1.188e+00</td>\n",
       "      <td>3.975e-03</td>\n",
       "    </tr>\n",
       "    <tr>\n",
       "      <th>9</th>\n",
       "      <td>1000</td>\n",
       "      <td>1.201e+00</td>\n",
       "      <td>1.317e+00</td>\n",
       "      <td>1.550e+00</td>\n",
       "      <td>5.354e-03</td>\n",
       "    </tr>\n",
       "  </tbody>\n",
       "</table>\n",
       "</div>"
      ],
      "text/plain": [
       "  Time of different methods                                           \\\n",
       "                          n  Standard Partial Pivoting Full Pivoting   \n",
       "0                       100 9.144e-03        1.201e-02     1.096e-02   \n",
       "1                       200 3.889e-02        4.623e-02     4.559e-02   \n",
       "2                       300 8.886e-02        1.034e-01     1.056e-01   \n",
       "3                       400 1.552e-01        1.847e-01     1.943e-01   \n",
       "4                       500 2.439e-01        2.918e-01     3.066e-01   \n",
       "5                       600 3.847e-01        4.399e-01     4.583e-01   \n",
       "6                       700 5.351e-01        6.107e-01     6.380e-01   \n",
       "7                       800 7.309e-01        8.135e-01     8.705e-01   \n",
       "8                       900 9.355e-01        1.056e+00     1.188e+00   \n",
       "9                      1000 1.201e+00        1.317e+00     1.550e+00   \n",
       "\n",
       "                      \n",
       "  numpy.linalg.solve  \n",
       "0          8.647e-05  \n",
       "1          2.414e-04  \n",
       "2          4.424e-04  \n",
       "3          6.487e-04  \n",
       "4          9.323e-04  \n",
       "5          1.450e-03  \n",
       "6          1.921e-03  \n",
       "7          2.950e-03  \n",
       "8          3.975e-03  \n",
       "9          5.354e-03  "
      ]
     },
     "metadata": {},
     "output_type": "display_data"
    }
   ],
   "source": [
    "results = compare_time()\n",
    "display(results)"
   ]
  },
  {
   "cell_type": "code",
   "execution_count": 12,
   "metadata": {},
   "outputs": [
    {
     "data": {
      "image/png": "[encoded data removed]",
      "text/plain": [
       "<Figure size 2000x500 with 4 Axes>"
      ]
     },
     "metadata": {},
     "output_type": "display_data"
    }
   ],
   "source": [
    "plot(results, \"Time (s)\")"
   ]
  },
  {
   "cell_type": "markdown",
   "metadata": {},
   "source": [
    "-------------------------------------------------------------------------------------------------------------------------------------------------------------"
   ]
  }
 ],
 "metadata": {
  "kernelspec": {
   "display_name": "base",
   "language": "python",
   "name": "python3"
  },
  "language_info": {
   "codemirror_mode": {
    "name": "ipython",
    "version": 3
   },
   "file_extension": ".py",
   "mimetype": "text/x-python",
   "name": "python",
   "nbconvert_exporter": "python",
   "pygments_lexer": "ipython3",
   "version": "3.11.7"
  }
 },
 "nbformat": 4,
 "nbformat_minor": 2
}
