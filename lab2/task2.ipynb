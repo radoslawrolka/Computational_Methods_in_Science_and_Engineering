{
 "cells": [
  {
   "cell_type": "code",
   "execution_count": 1,
   "metadata": {},
   "outputs": [],
   "source": [
    "# lu functions\n",
    "import scipy\n",
    "# numpy matrix operations\n",
    "import numpy as np\n",
    "# dataframes\n",
    "import pandas as pd\n",
    "# deep copy\n",
    "import copy\n",
    "# plotting\n",
    "import matplotlib.pyplot as plt\n",
    "\n",
    "# format the pandas dataframe\n",
    "pd.options.display.float_format = '{:.3e}'.format"
   ]
  },
  {
   "cell_type": "markdown",
   "metadata": {},
   "source": [
    "# LU factorization"
   ]
  },
  {
   "cell_type": "markdown",
   "metadata": {},
   "source": [
    "The $ A = LU $ is a product of a lower-triangular matrix $ L $ and an uppertriangular matrix $ U $. Naturally, this is called an LU factorization of A.\n",
    "Observe that $ U $ is the end product of Gaussian elimination and has the\n",
    "pivots on its diagonal, while $ L $ has 1’s on its diagonal. Moreover, $ L $ has the\n",
    "remarkable property that below its diagonal, each entry 'ij is precisely the\n",
    "multiplier used in the elimination to annihilate the (i, j)-position"
   ]
  },
  {
   "cell_type": "markdown",
   "metadata": {},
   "source": [
    "## Table of contents"
   ]
  },
  {
   "cell_type": "markdown",
   "metadata": {},
   "source": [
    "1. [Implementation](#1-Implementation)\n",
    "2. [Comparison with library function](#2-Comparison-with-library-function)\n",
    "3. [Visualization](#3-Visualization)"
   ]
  },
  {
   "cell_type": "markdown",
   "metadata": {},
   "source": [
    "## 1. Implementation"
   ]
  },
  {
   "cell_type": "code",
   "execution_count": 2,
   "metadata": {},
   "outputs": [],
   "source": [
    "def lu_decomposition(A):                    # in-situ operation\n",
    "    n = len(A)\n",
    "    for i in range(n):                       \n",
    "        leading = A[i][i]                    \n",
    "        if leading != 0:                     \n",
    "            for j in range(i+1, n):         \n",
    "                divider = A[j][i] / leading \n",
    "                A[j][i:] -= divider * A[i][i:]\n",
    "                A[j][i] = divider\n",
    "    return A                            "
   ]
  },
  {
   "cell_type": "code",
   "execution_count": 3,
   "metadata": {},
   "outputs": [],
   "source": [
    "def separate_lu(A):\n",
    "    n = len(A)\n",
    "    U = np.zeros((n, n))\n",
    "    L = np.zeros((n, n))\n",
    "    for i in range(n):\n",
    "        for j in range(n):\n",
    "            if i <= j:\n",
    "                U[i][j] = A[i][j]\n",
    "            if i == j:\n",
    "                L[i][j] = 1\n",
    "            elif i > j:\n",
    "                L[i][j] = A[i][j]\n",
    "    return L, U"
   ]
  },
  {
   "cell_type": "markdown",
   "metadata": {},
   "source": [
    "## 2. Comparison with library function"
   ]
  },
  {
   "cell_type": "markdown",
   "metadata": {},
   "source": [
    "Error will be counted by comparing the difference between product of $ L $ and $ U $ with the original matrix $ A $ with a tolerance of $ 10^{-5} $. \n",
    "\n",
    "$$ || A - L @ U || $$\n",
    "\n",
    "```numpy.linalg.norm``` used for comparison is the Frobenius norm which is defined as:\n",
    "\n",
    "$$ || A ||_F = \\sqrt{\\sum_{i=1}^{m} \\sum_{j=1}^{n} |a_{ij}|^2} $$\n",
    "\n",
    "where $ a_{ij} $ is the element of matrix $ A $ at row $ i $ and column $ j $.\n",
    "\n",
    "Compared function is: ```scipy.linalg.lu```."
   ]
  },
  {
   "cell_type": "code",
   "execution_count": 4,
   "metadata": {},
   "outputs": [],
   "source": [
    "def random_matrix(n):\n",
    "    return np.random.uniform(-10e5, 10e5, size=(n, n))\n",
    "\n",
    "def count_error(func, A, islib=True):\n",
    "    copy_A = copy.deepcopy(A)\n",
    "    copy_A2 = copy.deepcopy(A)\n",
    "    if islib:\n",
    "        L, U = func(copy_A, permute_l=True)\n",
    "    else:\n",
    "        L, U = separate_lu(func(copy_A))\n",
    "    return np.linalg.norm(np.add(copy_A2, -np.matmul(L, U)))\n",
    "\n",
    "def compare_error():\n",
    "    data = {\"n\": [], \"lu_decomposition\": [], \"scipy.linalg.lu\": []}\n",
    "    for n in [100*i for i in range(1, 11)]:\n",
    "        lu_error = 0\n",
    "        scipy_error = 0\n",
    "\n",
    "        for _ in range(3):\n",
    "            A = random_matrix(n)\n",
    "            scipy_error += count_error(scipy.linalg.lu, A)\n",
    "            lu_error += count_error(lu_decomposition, A, islib=False)\n",
    "            \n",
    "\n",
    "        data[\"n\"].append(n)\n",
    "        data[\"lu_decomposition\"].append(lu_error/3)\n",
    "        data[\"scipy.linalg.lu\"].append(scipy_error/3)\n",
    "    df = pd.DataFrame(data)\n",
    "    df.columns = pd.MultiIndex.from_product([['Error of LU decomposition'], df.columns])\n",
    "    return df"
   ]
  },
  {
   "cell_type": "code",
   "execution_count": 5,
   "metadata": {},
   "outputs": [
    {
     "data": {
      "text/html": [
       "<div>\n",
       "<style scoped>\n",
       "    .dataframe tbody tr th:only-of-type {\n",
       "        vertical-align: middle;\n",
       "    }\n",
       "\n",
       "    .dataframe tbody tr th {\n",
       "        vertical-align: top;\n",
       "    }\n",
       "\n",
       "    .dataframe thead tr th {\n",
       "        text-align: left;\n",
       "    }\n",
       "</style>\n",
       "<table border=\"1\" class=\"dataframe\">\n",
       "  <thead>\n",
       "    <tr>\n",
       "      <th></th>\n",
       "      <th colspan=\"3\" halign=\"left\">Error of LU decomposition</th>\n",
       "    </tr>\n",
       "    <tr>\n",
       "      <th></th>\n",
       "      <th>n</th>\n",
       "      <th>lu_decomposition</th>\n",
       "      <th>scipy.linalg.lu</th>\n",
       "    </tr>\n",
       "  </thead>\n",
       "  <tbody>\n",
       "    <tr>\n",
       "      <th>0</th>\n",
       "      <td>100</td>\n",
       "      <td>8.100e-06</td>\n",
       "      <td>4.196e-08</td>\n",
       "    </tr>\n",
       "    <tr>\n",
       "      <th>1</th>\n",
       "      <td>200</td>\n",
       "      <td>1.057e-04</td>\n",
       "      <td>1.542e-07</td>\n",
       "    </tr>\n",
       "    <tr>\n",
       "      <th>2</th>\n",
       "      <td>300</td>\n",
       "      <td>4.772e-05</td>\n",
       "      <td>3.328e-07</td>\n",
       "    </tr>\n",
       "    <tr>\n",
       "      <th>3</th>\n",
       "      <td>400</td>\n",
       "      <td>1.103e-04</td>\n",
       "      <td>5.674e-07</td>\n",
       "    </tr>\n",
       "    <tr>\n",
       "      <th>4</th>\n",
       "      <td>500</td>\n",
       "      <td>2.086e-04</td>\n",
       "      <td>8.947e-07</td>\n",
       "    </tr>\n",
       "    <tr>\n",
       "      <th>5</th>\n",
       "      <td>600</td>\n",
       "      <td>9.888e-04</td>\n",
       "      <td>1.281e-06</td>\n",
       "    </tr>\n",
       "    <tr>\n",
       "      <th>6</th>\n",
       "      <td>700</td>\n",
       "      <td>2.413e-04</td>\n",
       "      <td>1.719e-06</td>\n",
       "    </tr>\n",
       "    <tr>\n",
       "      <th>7</th>\n",
       "      <td>800</td>\n",
       "      <td>4.489e-04</td>\n",
       "      <td>2.236e-06</td>\n",
       "    </tr>\n",
       "    <tr>\n",
       "      <th>8</th>\n",
       "      <td>900</td>\n",
       "      <td>4.982e-03</td>\n",
       "      <td>2.854e-06</td>\n",
       "    </tr>\n",
       "    <tr>\n",
       "      <th>9</th>\n",
       "      <td>1000</td>\n",
       "      <td>5.492e-03</td>\n",
       "      <td>3.372e-06</td>\n",
       "    </tr>\n",
       "  </tbody>\n",
       "</table>\n",
       "</div>"
      ],
      "text/plain": [
       "  Error of LU decomposition                                 \n",
       "                          n lu_decomposition scipy.linalg.lu\n",
       "0                       100        8.100e-06       4.196e-08\n",
       "1                       200        1.057e-04       1.542e-07\n",
       "2                       300        4.772e-05       3.328e-07\n",
       "3                       400        1.103e-04       5.674e-07\n",
       "4                       500        2.086e-04       8.947e-07\n",
       "5                       600        9.888e-04       1.281e-06\n",
       "6                       700        2.413e-04       1.719e-06\n",
       "7                       800        4.489e-04       2.236e-06\n",
       "8                       900        4.982e-03       2.854e-06\n",
       "9                      1000        5.492e-03       3.372e-06"
      ]
     },
     "metadata": {},
     "output_type": "display_data"
    }
   ],
   "source": [
    "results = compare_error()\n",
    "display(results)"
   ]
  },
  {
   "cell_type": "markdown",
   "metadata": {},
   "source": [
    "## Visualization"
   ]
  },
  {
   "cell_type": "code",
   "execution_count": 8,
   "metadata": {},
   "outputs": [],
   "source": [
    "def plot(data):\n",
    "    def setup_axis(axis, title):\n",
    "        axis.plot(data[suptitle][\"n\"], data[suptitle][title])\n",
    "        axis.set_title(title)\n",
    "        axis.set_xlabel(\"n\")\n",
    "        axis.set_ylabel(\"Error\")\n",
    "        axis.grid()\n",
    "        max_value = data.loc[:, data.columns[1:]].max().max()\n",
    "        axis.set_ylim(0, max_value)\n",
    "\n",
    "    fig, axis = plt.subplots(1, 2, figsize=(10, 5))\n",
    "    suptitle = data.columns[0][0]\n",
    "    fig.suptitle(suptitle)\n",
    "    columns = [col for _, col in data.columns[1:]]\n",
    "    for i, col in enumerate(columns):\n",
    "        setup_axis(axis[i], col)\n",
    "    \n",
    "    plt.show()"
   ]
  },
  {
   "cell_type": "code",
   "execution_count": 9,
   "metadata": {},
   "outputs": [
    {
     "data": {
      "image/png": "[encoded data removed]",
      "text/plain": [
       "<Figure size 1000x500 with 2 Axes>"
      ]
     },
     "metadata": {},
     "output_type": "display_data"
    }
   ],
   "source": [
    "plot(results)"
   ]
  },
  {
   "cell_type": "markdown",
   "metadata": {},
   "source": [
    "Function ```lu_decomposition``` was implemented correctly.\n",
    "\n",
    "In the visualization, we can see that the library function have more accurate results than the implemented function, but both errors are very small.\n",
    "\n",
    "The implemented function has a small error in the 3rd decimal place, while the library function has a small error in the 5th decimal place.\n",
    "\n",
    "To reduce the error, we could use a more accurate method, like partial pivoting, to find the multipliers and the upper triangular matrix."
   ]
  },
  {
   "cell_type": "markdown",
   "metadata": {},
   "source": [
    "-----------------------------------------------------------------------------------------"
   ]
  }
 ],
 "metadata": {
  "kernelspec": {
   "display_name": "base",
   "language": "python",
   "name": "python3"
  },
  "language_info": {
   "codemirror_mode": {
    "name": "ipython",
    "version": 3
   },
   "file_extension": ".py",
   "mimetype": "text/x-python",
   "name": "python",
   "nbconvert_exporter": "python",
   "pygments_lexer": "ipython3",
   "version": "3.11.7"
  }
 },
 "nbformat": 4,
 "nbformat_minor": 2
}
