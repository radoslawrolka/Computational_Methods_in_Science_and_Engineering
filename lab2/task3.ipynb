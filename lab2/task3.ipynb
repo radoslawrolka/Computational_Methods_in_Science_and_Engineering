{
 "cells": [
  {
   "cell_type": "code",
   "execution_count": 1,
   "metadata": {},
   "outputs": [],
   "source": [
    "# graph functions\n",
    "import networkx as nx\n",
    "# library functions\n",
    "import numpy as np\n",
    "# data processing\n",
    "import pandas as pd\n",
    "# deepcopy\n",
    "from copy import deepcopy\n",
    "# visualization\n",
    "from pyvis.network import Network"
   ]
  },
  {
   "cell_type": "markdown",
   "metadata": {},
   "source": [
    "# Circuit analysis - overdetermined system of equations"
   ]
  },
  {
   "cell_type": "markdown",
   "metadata": {},
   "source": [
    "Searching for amperage of each resistor in a circuit, using the Kirchhoff's laws."
   ]
  },
  {
   "cell_type": "markdown",
   "metadata": {},
   "source": [
    "## Table of contents\n",
    "\n",
    "1. [Loading undirected weighted graph from file](#1-loading-undirected-weighted-graph-from-file)\n",
    "2. [Utilities](#2-utilities)\n",
    "   - [Finding cycles in a graph](#21-finding-cycles-in-a-graph)\n",
    "3. [Solving the system of equations](#3-solving-the-system-of-equations)\n",
    "   - [Building the system of equations](#31-building-the-system-of-equations)\n",
    "   - [Building graph from equations](#32-building-graph-from-equations)\n",
    "   - [Solving the system of equations](#33-solving-the-system-of-equations)\n",
    "4. [Verifyng the system of equations](#4-verifyng-the-system-of-equations)\n",
    "5. [Generating random circuits](#5-generating-random-circuits)\n",
    "   - [Random resistance values](#51-random-resistance-values)\n",
    "   - [Random graph (Erdos-Renyi)](#52-random-graph-erdos-renyi)\n",
    "   - [3-regural graph](#53-3-regural-graph)\n",
    "   - [Two random graphs with one bridge](#54-two-random-graphs-with-one-bridge)\n",
    "   - [Grid graph](#55-grid-graph)\n",
    "   - [Small world graph](#56-small-world-graph)\n",
    "6. [Visualizing the circuit](#6-visualizing-the-circuit)"
   ]
  },
  {
   "cell_type": "markdown",
   "metadata": {},
   "source": [
    "## 1. Loading undirected weighted graph from file"
   ]
  },
  {
   "cell_type": "code",
   "execution_count": 2,
   "metadata": {},
   "outputs": [],
   "source": [
    "def load_graph(filename):\n",
    "    graph = nx.Graph()        # circuit graph\n",
    "    s, t = None, None         # source and target nodes\n",
    "    E = None                  # electromotive force\n",
    "    with open(filename) as f:\n",
    "        try:\n",
    "            s, t, E = map(int, f.readline().split())\n",
    "        except:\n",
    "            return error_message(\"ERROR1\")\n",
    "        for line in f:\n",
    "            try:\n",
    "                a, b, resistance = map(int, line.split())\n",
    "                graph.add_edge(a, b, resistance=resistance)\n",
    "            except:\n",
    "                return error_message(\"ERROR2\")\n",
    "        if graph[s] == [] or graph[t] == []:\n",
    "            return error_message(\"ERROR3\")\n",
    "    return (s, t, E), graph\n",
    "\n",
    "def error_message(error_code):\n",
    "    match error_code:\n",
    "        case \"ERROR1\":\n",
    "            print(\"ERROR: File first line format should be: <source node> <target node> <electromotive force>\")\n",
    "        case \"ERROR2\":\n",
    "            print(\"ERROR: File format should be: <node1> <node2> <resistance>\")\n",
    "        case \"ERROR3\":\n",
    "            print(\"ERROR: source or target node not in graph\")\n",
    "        case _:\n",
    "            print(\"ERROR: unknown error\")\n",
    "    return error_code"
   ]
  },
  {
   "cell_type": "markdown",
   "metadata": {},
   "source": [
    "## 2. Utilities"
   ]
  },
  {
   "cell_type": "markdown",
   "metadata": {},
   "source": [
    "### 2.1 Finding cycles in a graph"
   ]
  },
  {
   "cell_type": "code",
   "execution_count": 3,
   "metadata": {},
   "outputs": [],
   "source": [
    "def find_cycles(graph):\n",
    "    return list(nx.cycle_basis(graph))"
   ]
  },
  {
   "cell_type": "markdown",
   "metadata": {},
   "source": [
    "## 3. Solving the system of equations"
   ]
  },
  {
   "cell_type": "markdown",
   "metadata": {},
   "source": [
    "### 3.1 Building the system of equations"
   ]
  },
  {
   "cell_type": "code",
   "execution_count": 4,
   "metadata": {},
   "outputs": [],
   "source": [
    "def build_matrix(s, t, El, graph):\n",
    "    if not (graph.has_edge(s, t) or graph.has_edge(t,s)):              # if there is no edge between s and t\n",
    "            graph.add_edge(s, t)                                       # add a SEM edge\n",
    "    V, E = len(graph.nodes), len(graph.edges)                          # number of nodes and edges\n",
    "    edges_dict = {(min(edge), max(edge)): idx for idx, edge in enumerate(graph.edges)}\n",
    "    cycles = find_cycles(graph)[:E]                                    # find all linearly independent cycles in the graph\n",
    "    A = np.zeros((E, E))                                               # matrix of Kirchhoff's laws\n",
    "    b = np.zeros(E)                                                    # electric current vector\n",
    "\n",
    "    for i in range(len(cycles)):                                       # Kirchhoff's second law\n",
    "        cycle_edges = zip(cycles[i], cycles[i][1:]+cycles[i][:1])\n",
    "        for edge in cycle_edges:\n",
    "            if edge == (s, t):\n",
    "                b[i] = -El\n",
    "            elif edge == (t, s):\n",
    "                b[i] = El\n",
    "            else:\n",
    "                if edge in edges_dict:\n",
    "                    A[i, edges_dict[edge]] = graph[edge[0]][edge[1]][\"resistance\"]\n",
    "                else:\n",
    "                    A[i, edges_dict[(edge[1], edge[0])]] = -graph[edge[0]][edge[1]][\"resistance\"]\n",
    "            if edge == (cycles[i][0], cycles[i][1]):\n",
    "                b[i] *= -1\n",
    "\n",
    "    for i in range(E-len(cycles)):                                     # Kirchhoff's first law\n",
    "        for j in graph[i]:                  \n",
    "            if j > i:                        \n",
    "                A[len(cycles)+i, edges_dict[(i,j)]] = 1 \n",
    "            else:                            \n",
    "                A[len(cycles)+i, edges_dict[(j,i)]] = -1\n",
    "    \n",
    "    if graph.has_edge(s, t):                                           # if there is an edge between s and t\n",
    "        graph[s][t][\"resistance\"] = 0                                  # set its resistance to zero\n",
    "    else:\n",
    "        graph[t][s][\"resistance\"] = 0       \n",
    "        \n",
    "    return A, b, edges_dict"
   ]
  },
  {
   "cell_type": "markdown",
   "metadata": {},
   "source": [
    "### 3.2 Building graph from equations"
   ]
  },
  {
   "cell_type": "code",
   "execution_count": 5,
   "metadata": {},
   "outputs": [],
   "source": [
    "def build_circuit(graph, result, edges_dict):\n",
    "    circuit = nx.DiGraph()                                           # directed graph of electric current\n",
    "    for edge, idx in edges_dict.items():                             # add edges to the graph\n",
    "        graph[edge[0]][edge[1]][\"resistance\"] = result[idx]          # set the resistance of the edge to the current\n",
    "        if result[idx] > 0:                                          # if the current is positive\n",
    "            circuit.add_edge(*edge, current=result[idx])             # add the edge to the graph\n",
    "        else:                                                        # if the current is negative\n",
    "            circuit.add_edge(edge[1], edge[0], current=-result[idx]) # switch the direction of the edge and add it to the graph\n",
    "    return circuit"
   ]
  },
  {
   "cell_type": "markdown",
   "metadata": {},
   "source": [
    "### 3.3 Solving the system of equations"
   ]
  },
  {
   "cell_type": "code",
   "execution_count": 6,
   "metadata": {},
   "outputs": [],
   "source": [
    "def solve(graph_bundle):\n",
    "    (s, t, E), graph = graph_bundle\n",
    "    G_copy = deepcopy(graph)\n",
    "    A, b, edges_dict = build_matrix(s, t, E, graph)\n",
    "    result = np.linalg.solve(A, b)\n",
    "    circuit = build_circuit(graph, result, edges_dict)\n",
    "    return circuit"
   ]
  },
  {
   "cell_type": "markdown",
   "metadata": {},
   "source": [
    "## 4. Verifyng the system of equations"
   ]
  },
  {
   "cell_type": "code",
   "execution_count": 7,
   "metadata": {},
   "outputs": [],
   "source": [
    "def verify_graph(circuit, s, t, E, graph):\n",
    "\n",
    "    # Kirchhoff's first law\n",
    "    vertices_flow = [0 for _ in range(len(graph.nodes))]\n",
    "    for edge in circuit.edges:       \n",
    "        vertices_flow[edge[0]] -= circuit[edge[0]][edge[1]][\"current\"]\n",
    "        vertices_flow[edge[1]] += circuit[edge[0]][edge[1]][\"current\"]\n",
    "    for flow in vertices_flow:\n",
    "        if abs(flow) > 1e-6:\n",
    "            print(\"1\", end=\" \")\n",
    "            return False\n",
    "        \n",
    "    # Kirchhoff's second law    \n",
    "    cycles = nx.simple_cycles(circuit)\n",
    "    circuit_edges = set(circuit.edges)\n",
    "    for cycle in cycles:\n",
    "        cycle_edges = zip(cycle, cycle[1:]+cycle[:1])\n",
    "        cycle_flow = 0\n",
    "\n",
    "        for edge in cycle_edges:\n",
    "            if edge == (s, t):\n",
    "                flow = E\n",
    "            elif edge == (t, s):\n",
    "                flow = -E\n",
    "            elif edge in circuit_edges:\n",
    "                flow = circuit[edge[0]][edge[1]][\"current\"] * graph[edge[0]][edge[1]][\"resistance\"]\n",
    "            else:\n",
    "                flow = circuit[edge[1]][edge[0]][\"current\"] * graph[edge[1]][edge[0]][\"resistance\"]\n",
    "            if edge == (cycle[-1], cycle[1]):\n",
    "                flow *= -1\n",
    "            cycle_flow += flow\n",
    "        \n",
    "        if abs(cycle_flow) > 1e-6:\n",
    "            print(\"2\", end=\" \")\n",
    "            return False\n",
    "        \n",
    "    return True"
   ]
  },
  {
   "cell_type": "markdown",
   "metadata": {},
   "source": [
    "## 5. Generating random circuits"
   ]
  },
  {
   "cell_type": "markdown",
   "metadata": {},
   "source": [
    "### 5.1 Random resistance values"
   ]
  },
  {
   "cell_type": "code",
   "execution_count": 8,
   "metadata": {},
   "outputs": [],
   "source": [
    "def random_resistance(graph):\n",
    "    for v1, v2 in graph.edges:\n",
    "        graph[v1][v2][\"resistance\"] = np.random.uniform(1, 10)\n",
    "    return graph"
   ]
  },
  {
   "cell_type": "markdown",
   "metadata": {},
   "source": [
    "### 5.2 Random graph (Erdos-Renyi)"
   ]
  },
  {
   "cell_type": "code",
   "execution_count": 9,
   "metadata": {},
   "outputs": [],
   "source": [
    "def random_graph(v):\n",
    "    return random_resistance(nx.gnp_random_graph(v, np.random.randint(v, v*(v-1)//2)))"
   ]
  },
  {
   "cell_type": "markdown",
   "metadata": {},
   "source": [
    "### 5.3 3-regular graph (cubic)"
   ]
  },
  {
   "cell_type": "code",
   "execution_count": 10,
   "metadata": {},
   "outputs": [],
   "source": [
    "def cubic_graph(v):\n",
    "    return random_resistance(nx.random_regular_graph(3, v))"
   ]
  },
  {
   "cell_type": "markdown",
   "metadata": {},
   "source": [
    "### 5.4 Two random graphs with one bridge"
   ]
  },
  {
   "cell_type": "code",
   "execution_count": 11,
   "metadata": {},
   "outputs": [],
   "source": [
    "def bridge_graph(v):\n",
    "    graph1 = random_graph(v//2)\n",
    "    graph2 = random_graph(v - (v//2))\n",
    "    connected = nx.disjoint_union(graph1, graph2)\n",
    "    connected.add_edge(v//2-1, 1+v//2)\n",
    "    return random_resistance(connected)"
   ]
  },
  {
   "cell_type": "markdown",
   "metadata": {},
   "source": [
    "### 5.5 Grid graph"
   ]
  },
  {
   "cell_type": "code",
   "execution_count": 12,
   "metadata": {},
   "outputs": [],
   "source": [
    "def grid_graph(v):\n",
    "    grid = nx.grid_2d_graph(v, v)\n",
    "    grid = nx.convert_node_labels_to_integers(grid, first_label=0, ordering='sorted')\n",
    "    return random_resistance(grid)"
   ]
  },
  {
   "cell_type": "markdown",
   "metadata": {},
   "source": [
    "### 5.6 Small-world graph"
   ]
  },
  {
   "cell_type": "code",
   "execution_count": 13,
   "metadata": {},
   "outputs": [],
   "source": [
    "def small_world_graph(v):\n",
    "    return random_resistance(nx.watts_strogatz_graph(v, 5, 0.2))"
   ]
  },
  {
   "cell_type": "markdown",
   "metadata": {},
   "source": [
    "## 6. Visualizing the circuit"
   ]
  },
  {
   "cell_type": "code",
   "execution_count": 15,
   "metadata": {},
   "outputs": [],
   "source": [
    "def rgb_to_hex(rgb):\n",
    "    return '#{:02x}{:02x}{:02x}'.format(*rgb)\n",
    "\n",
    "def get_edge_color(value, max_value):\n",
    "    low = (127, 255, 0) # light green\n",
    "    high = (100, 11, 11) # dark red\n",
    "    factor = abs(value / max_value)\n",
    "    interpolated_rgb = tuple(int(part[0] * (1 - factor) + part[1] * factor) for part in zip(low, high))\n",
    "    return rgb_to_hex(interpolated_rgb)\n",
    "\n",
    "def show_graph(circuit, graph, title):\n",
    "    BLACK = \"000000\"\n",
    "    V = len(graph.nodes)\n",
    "    g = Network(directed=True)\n",
    "\n",
    "    g.add_nodes([i for i in range(V)],\n",
    "                title=[\"Node \" + str(i) for i in range(V)],\n",
    "                size=[5 for i in range(V)], color=[BLACK for i in range(V)])\n",
    "\n",
    "    max_current = max([circuit[a][b][\"current\"] for a, b in circuit.edges])\n",
    "    for a, b in graph.edges:\n",
    "        if graph[a][b][\"resistance\"] == 0: \n",
    "            label = f\"U={10}V\"\n",
    "        else: \n",
    "            label = f\"R={graph[a][b]['resistance']:.2f}Ω\"\n",
    "        \n",
    "        if (a, b) in circuit.edges:\n",
    "            label += f\", I={circuit[a][b]['current']:.2f}A\"\n",
    "            color = get_edge_color(circuit[a][b][\"current\"], max_current)\n",
    "        else:\n",
    "            label += f\", I={circuit[b][a]['current']:.2f}A\"\n",
    "            color = get_edge_color(circuit[b][a][\"current\"], max_current)\n",
    "        \n",
    "        g.add_edge(a, b, title=label, label=label, color=color)\n",
    "\n",
    "    g.show(f\"{title}.html\")"
   ]
  },
  {
   "cell_type": "code",
   "execution_count": 16,
   "metadata": {},
   "outputs": [
    {
     "name": "stdout",
     "output_type": "stream",
     "text": [
      "random_graph True\n",
      "cubic_graph True\n",
      "bridge_graph True\n",
      "grid_graph True\n",
      "small_world_graph True\n",
      "random_graph True\n",
      "cubic_graph True\n",
      "bridge_graph True\n",
      "grid_graph True\n",
      "small_world_graph True\n",
      "done\n"
     ]
    }
   ],
   "source": [
    "types = [random_graph, cubic_graph, bridge_graph, grid_graph, small_world_graph]\n",
    "for v in [10, 20]:\n",
    "    for t in types:\n",
    "        print(t.__name__, end= \" \")\n",
    "        if t == grid_graph: graph = t(5)\n",
    "        else: graph = t(v)\n",
    "        circuit = solve(((0, v-1, 10), graph.copy()))\n",
    "        print(verify_graph(circuit, 0, v-1, 10, graph))\n",
    "        if v==10: show_graph(circuit, graph, t.__name__ + \"10\")\n",
    "\n",
    "print(\"done\")\n"
   ]
  },
  {
   "cell_type": "markdown",
   "metadata": {},
   "source": [
    "------------------------------------------------"
   ]
  }
 ],
 "metadata": {
  "kernelspec": {
   "display_name": "base",
   "language": "python",
   "name": "python3"
  },
  "language_info": {
   "codemirror_mode": {
    "name": "ipython",
    "version": 3
   },
   "file_extension": ".py",
   "mimetype": "text/x-python",
   "name": "python",
   "nbconvert_exporter": "python",
   "pygments_lexer": "ipython3",
   "version": "3.11.7"
  }
 },
 "nbformat": 4,
 "nbformat_minor": 2
}
